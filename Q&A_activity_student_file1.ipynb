{
  "nbformat": 4,
  "nbformat_minor": 0,
  "metadata": {
    "kernelspec": {
      "display_name": "Python 3",
      "language": "python",
      "name": "python3"
    },
    "language_info": {
      "codemirror_mode": {
        "name": "ipython",
        "version": 3
      },
      "file_extension": ".py",
      "mimetype": "text/x-python",
      "name": "python",
      "nbconvert_exporter": "python",
      "pygments_lexer": "ipython3",
      "version": "3.7.6"
    },
    "colab": {
      "name": "Copy of Q&A activity student file.ipynb",
      "provenance": [],
      "collapsed_sections": []
    }
  },
  "cells": [
    {
      "cell_type": "markdown",
      "metadata": {
        "id": "4z_Z-K1tlrS7"
      },
      "source": [
        "## 1. Complete the following code to find the area of an equilateral triangle. Output should be as displayed"
      ]
    },
    {
      "cell_type": "code",
      "metadata": {
        "id": "rP2qFD_SlrS_",
        "colab": {
          "base_uri": "https://localhost:8080/"
        },
        "outputId": "817fd3ce-d22e-4fc6-93bb-debe6d9e2d8c"
      },
      "source": [
        "import math\n",
        "side = float(input(\"Enter the side of the equilateral triangle: \"))\n",
        "area = ((math.sqrt(3))/4)*pow(side,2)\n",
        "print('Area = ',area)\n"
      ],
      "execution_count": 2,
      "outputs": [
        {
          "output_type": "stream",
          "name": "stdout",
          "text": [
            "Enter the side of the equilateral triangle: 5\n",
            "Area =  10.825317547305483\n"
          ]
        }
      ]
    },
    {
      "cell_type": "markdown",
      "metadata": {
        "id": "TjVKjIfclrTB"
      },
      "source": [
        "## 2. Write a program to count the number of each characters in a string"
      ]
    },
    {
      "cell_type": "code",
      "metadata": {
        "id": "JY5seVUQlrTC",
        "colab": {
          "base_uri": "https://localhost:8080/"
        },
        "outputId": "f9c3e204-c8d1-4363-e7d2-7f79c8014886"
      },
      "source": [
        "string=input('enter your string')\n",
        "val={}\n",
        "for i in string:\n",
        "  if i in val:\n",
        "    val[i]+=1\n",
        "  else:\n",
        "    val[i]=1\n",
        "print('count of each charater in the given string is \\n', val)\n"
      ],
      "execution_count": 4,
      "outputs": [
        {
          "output_type": "stream",
          "name": "stdout",
          "text": [
            "enter your stringshafah is doing his course on DSA\n",
            "count of each charater in the given string is \n",
            " {'s': 4, 'h': 3, 'a': 2, 'f': 1, ' ': 6, 'i': 3, 'd': 1, 'o': 3, 'n': 2, 'g': 1, 'c': 1, 'u': 1, 'r': 1, 'e': 1, 'D': 1, 'S': 1, 'A': 1}\n"
          ]
        }
      ]
    },
    {
      "cell_type": "markdown",
      "metadata": {
        "id": "l3LCULfklrTD"
      },
      "source": [
        "## Write a program to find the area and perimeter of a rectangle using functions"
      ]
    },
    {
      "cell_type": "code",
      "metadata": {
        "id": "8haQD8edlrTD",
        "colab": {
          "base_uri": "https://localhost:8080/"
        },
        "outputId": "0723e6fe-5e81-4da2-c0e8-2a66e798967b"
      },
      "source": [
        "def area(side1,side2):\n",
        "  val=side1*side2\n",
        "  return val\n",
        "def perimeter(side1,side2):\n",
        "  val=2*(side1+side2)\n",
        "  return val\n",
        "\n",
        "side1=float(input('enter the sides of rectangle'))\n",
        "side2=float(input())\n",
        "print('Area of rectangle is =', area(side1,side2))\n",
        "print('Perimeter of the rectangle is = ', perimeter(side1,side2))"
      ],
      "execution_count": 8,
      "outputs": [
        {
          "output_type": "stream",
          "name": "stdout",
          "text": [
            "enter the sides of rectangle10.2\n",
            "20.2\n",
            "Area of rectangle is = 206.04\n",
            "Perimeter of the rectangle is =  60.8\n"
          ]
        }
      ]
    },
    {
      "cell_type": "markdown",
      "metadata": {
        "id": "JHK4ZdsflrTE"
      },
      "source": [
        "## 4. Write a program to print the fibonacci series till a specified number"
      ]
    },
    {
      "cell_type": "code",
      "metadata": {
        "id": "LyBEj-4SlrTE",
        "colab": {
          "base_uri": "https://localhost:8080/"
        },
        "outputId": "aa3b29f0-30ba-4c55-aff6-f761151a6141"
      },
      "source": [
        "def feblos(num):\n",
        "  val1=0\n",
        "  val2=1\n",
        "  if(num==0):\n",
        "    print(0, end=' ')\n",
        "  else:\n",
        "    print(val1, val2, end=' ')\n",
        "  sum=1\n",
        "  while True:\n",
        "    sum=val1+val2\n",
        "    if(sum>num):\n",
        "      break\n",
        "    else:\n",
        "      val1,val2=val2,sum\n",
        "      print(sum, end=' ')\n",
        "    \n",
        "\n",
        "\n",
        "\n",
        "number=int(input('enter the number '))\n",
        "feblos(number)"
      ],
      "execution_count": 23,
      "outputs": [
        {
          "output_type": "stream",
          "name": "stdout",
          "text": [
            "enter the number 5\n",
            "0 1 1 2 3 5 "
          ]
        }
      ]
    },
    {
      "cell_type": "markdown",
      "metadata": {
        "id": "u4uBUcQKlrTE"
      },
      "source": [
        "## 5. Complete the following code to find the minimum of 3 number using cinditional statements. Output should be as displayed"
      ]
    },
    {
      "cell_type": "code",
      "metadata": {
        "id": "XdZwrZjIlrTF"
      },
      "source": [
        "a,b,c = input(\"Enter three numbers followed by  : \").split()\n",
        "\n",
        "print(\"First number :\",a)\n",
        "print(\"Second number :\",b)\n",
        "print(\"Third number :\",c)\n",
        "\n",
        "    print(\"Entered numbers are equal!!!\")\n",
        "\n",
        "    print(a,\" is smallest\")\n",
        "\n",
        "    print(b,\" is smallest\")\n",
        "\n",
        "    print(c,\" is smallest\")"
      ],
      "execution_count": null,
      "outputs": []
    },
    {
      "cell_type": "code",
      "metadata": {
        "colab": {
          "base_uri": "https://localhost:8080/"
        },
        "id": "FTqqtb1yMB84",
        "outputId": "793cd672-4f1b-4244-93ae-5f901ee11e31"
      },
      "source": [
        "a,b,c = input(\"Enter three numbers followed by space : \").split()\n",
        "\n",
        "print(\"First number :\",a)\n",
        "print(\"Second number :\",b)\n",
        "print(\"Third number :\",c)\n",
        "if(a==b and b==c):\n",
        "  print(\"Entered numbers are equal!!!\")\n",
        "elif(a<b and a<c ):\n",
        "  print(a,\" is smallest\")\n",
        "elif(b<a and b<c):\n",
        "  print(b,\" is smallest\")\n",
        "else:\n",
        "    print(c,\" is smallest\")\n"
      ],
      "execution_count": 25,
      "outputs": [
        {
          "output_type": "stream",
          "name": "stdout",
          "text": [
            "Enter three numbers followed by space : 52 64 76\n",
            "First number : 52\n",
            "Second number : 64\n",
            "Third number : 76\n",
            "52  is smallest\n"
          ]
        }
      ]
    },
    {
      "cell_type": "markdown",
      "metadata": {
        "id": "aR_CnToWlrTG"
      },
      "source": [
        "## 6. Write a program to print star pyramind. The number of rows should be taken as input from the user"
      ]
    },
    {
      "cell_type": "code",
      "metadata": {
        "id": "M37A-buplrTG",
        "colab": {
          "base_uri": "https://localhost:8080/"
        },
        "outputId": "1ac41abb-0921-4693-c950-fd0575955d3f"
      },
      "source": [
        "number=int(input('enter number of rows'))\n",
        "val=number-1\n",
        "for i in range(0,number):\n",
        "  for j in range(0,val):\n",
        "    print(end=\" \")\n",
        "  val-=1\n",
        "  for j in range(0,i+1):\n",
        "    print('* ',end='')\n",
        "  print('\\r')\n"
      ],
      "execution_count": 29,
      "outputs": [
        {
          "output_type": "stream",
          "name": "stdout",
          "text": [
            "enter number of rows5\n",
            "    * \n",
            "   * * \n",
            "  * * * \n",
            " * * * * \n",
            "* * * * * \n"
          ]
        }
      ]
    },
    {
      "cell_type": "markdown",
      "metadata": {
        "id": "tlY6aFWBlrTH"
      },
      "source": [
        "## 7. Complete the following code to convert hour into seconds. Output should be as displayed"
      ]
    },
    {
      "cell_type": "code",
      "metadata": {
        "id": "YOZQFk7FlrTH",
        "colab": {
          "base_uri": "https://localhost:8080/"
        },
        "outputId": "a0b22a3f-160a-4d86-da46-5952e49fb779"
      },
      "source": [
        "def to_seconds(t):\n",
        "    t=t*60*60\n",
        "    return t\n",
        "time_in_hours = int(input('Enter time in hours '))\n",
        "print(time_in_hours ,\" Hour is equal to\" ,to_seconds(time_in_hours) ,\" Seconds\")"
      ],
      "execution_count": 32,
      "outputs": [
        {
          "output_type": "stream",
          "name": "stdout",
          "text": [
            "Enter time in hours 10\n",
            "10  Hour is equal to 36000  Seconds\n"
          ]
        }
      ]
    },
    {
      "cell_type": "markdown",
      "metadata": {
        "id": "CnYorNiLlrTI"
      },
      "source": [
        "## 8. Write a program to print multiplication table as below"
      ]
    },
    {
      "cell_type": "code",
      "metadata": {
        "id": "dPQqDPuDlrTI",
        "colab": {
          "base_uri": "https://localhost:8080/"
        },
        "outputId": "d4fd2f33-eadb-47d1-edd8-d2f8ba64c65d"
      },
      "source": [
        "number=int(input('Enter a number to find the multiplication table: '))\n",
        "for i in range(1,11):\n",
        "  print(i, 'x ',number,' = ',i*number)"
      ],
      "execution_count": 36,
      "outputs": [
        {
          "output_type": "stream",
          "name": "stdout",
          "text": [
            "Enter a number to find the multiplication table: 5\n",
            "1 x  5  =  5\n",
            "2 x  5  =  10\n",
            "3 x  5  =  15\n",
            "4 x  5  =  20\n",
            "5 x  5  =  25\n",
            "6 x  5  =  30\n",
            "7 x  5  =  35\n",
            "8 x  5  =  40\n",
            "9 x  5  =  45\n",
            "10 x  5  =  50\n"
          ]
        }
      ]
    },
    {
      "cell_type": "markdown",
      "metadata": {
        "id": "Fiaez8iblrTI"
      },
      "source": [
        "## 9. Write a program to take your 5 favorite food as list and print each as 'I like Biriyani'"
      ]
    },
    {
      "cell_type": "code",
      "metadata": {
        "id": "39W1zFX7lrTJ",
        "colab": {
          "base_uri": "https://localhost:8080/"
        },
        "outputId": "8a1e210b-333e-4b43-9077-2d767c10e8a3"
      },
      "source": [
        "food=str(input('Enter your favorite food list followed by space : ')).split()\n",
        "for i in food[0:5]:\n",
        "  print('I like ',i)\n"
      ],
      "execution_count": 40,
      "outputs": [
        {
          "output_type": "stream",
          "name": "stdout",
          "text": [
            "Enter your favorite food list followed by space : chapthi rice biriyani mandi chiken\n",
            "I like  chapthi\n",
            "I like  rice\n",
            "I like  biriyani\n",
            "I like  mandi\n",
            "I like  chiken\n"
          ]
        }
      ]
    },
    {
      "cell_type": "markdown",
      "metadata": {
        "id": "3vlcDNNEP7d_"
      },
      "source": [
        "## 10. Find error(s) in the following code(if any) and rewrite code.\n",
        "\n"
      ]
    },
    {
      "cell_type": "code",
      "metadata": {
        "id": "coREkcY3P9sG",
        "colab": {
          "base_uri": "https://localhost:8080/"
        },
        "outputId": "1943a251-a304-4ce0-d24f-d95a9ccd3522"
      },
      "source": [
        "x= int(input('Enter value of x:'))\n",
        "for y in range(0,10):\n",
        "     if (x==y):\n",
        "          print(\"They are equal\")\n",
        "     else:\n",
        "         print(\"They are unequal\")"
      ],
      "execution_count": 46,
      "outputs": [
        {
          "output_type": "stream",
          "name": "stdout",
          "text": [
            "Enter value of x:10\n",
            "They are unequal\n",
            "They are unequal\n",
            "They are unequal\n",
            "They are unequal\n",
            "They are unequal\n",
            "They are unequal\n",
            "They are unequal\n",
            "They are unequal\n",
            "They are unequal\n",
            "They are unequal\n"
          ]
        }
      ]
    }
  ]
}
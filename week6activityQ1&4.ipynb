{
  "nbformat": 4,
  "nbformat_minor": 0,
  "metadata": {
    "colab": {
      "name": "week6activityQ1&4.ipynb",
      "provenance": [],
      "collapsed_sections": []
    },
    "kernelspec": {
      "name": "python3",
      "display_name": "Python 3"
    },
    "language_info": {
      "name": "python"
    }
  },
  "cells": [
    {
      "cell_type": "code",
      "metadata": {
        "id": "iinZtXbaXrW2"
      },
      "source": [
        "import pandas as pd\n",
        "import numpy as np"
      ],
      "execution_count": 1,
      "outputs": []
    },
    {
      "cell_type": "code",
      "metadata": {
        "id": "Hd_C0FgnXwcm"
      },
      "source": [
        "data1 = pd.read_excel('/content/drive/MyDrive/DSA WORKS/Week 6/Dataset_w6.xlsx')"
      ],
      "execution_count": 2,
      "outputs": []
    },
    {
      "cell_type": "code",
      "metadata": {
        "colab": {
          "base_uri": "https://localhost:8080/",
          "height": 476
        },
        "id": "V0RtqdB-ZytQ",
        "outputId": "1196c9a0-bf1b-4712-9ccf-6bf62720d4b6"
      },
      "source": [
        "data1"
      ],
      "execution_count": 3,
      "outputs": [
        {
          "output_type": "execute_result",
          "data": {
            "text/html": [
              "<div>\n",
              "<style scoped>\n",
              "    .dataframe tbody tr th:only-of-type {\n",
              "        vertical-align: middle;\n",
              "    }\n",
              "\n",
              "    .dataframe tbody tr th {\n",
              "        vertical-align: top;\n",
              "    }\n",
              "\n",
              "    .dataframe thead th {\n",
              "        text-align: right;\n",
              "    }\n",
              "</style>\n",
              "<table border=\"1\" class=\"dataframe\">\n",
              "  <thead>\n",
              "    <tr style=\"text-align: right;\">\n",
              "      <th></th>\n",
              "      <th>country</th>\n",
              "      <th>Region</th>\n",
              "      <th>Surface area (km2)</th>\n",
              "      <th>Population in thousands (2017)</th>\n",
              "      <th>GDP per capita (current US$)</th>\n",
              "      <th>Agricultural production index</th>\n",
              "      <th>International trade: Imports (million US$)</th>\n",
              "    </tr>\n",
              "  </thead>\n",
              "  <tbody>\n",
              "    <tr>\n",
              "      <th>0</th>\n",
              "      <td>Afghanistan</td>\n",
              "      <td>SouthernAsia</td>\n",
              "      <td>652864</td>\n",
              "      <td>35530</td>\n",
              "      <td>623.2</td>\n",
              "      <td>125</td>\n",
              "      <td>3568</td>\n",
              "    </tr>\n",
              "    <tr>\n",
              "      <th>1</th>\n",
              "      <td>Albania</td>\n",
              "      <td>SouthernEurope</td>\n",
              "      <td>28748</td>\n",
              "      <td>2930</td>\n",
              "      <td>3984.2</td>\n",
              "      <td>134</td>\n",
              "      <td>4669</td>\n",
              "    </tr>\n",
              "    <tr>\n",
              "      <th>2</th>\n",
              "      <td>Algeria</td>\n",
              "      <td>NorthernAfrica</td>\n",
              "      <td>2381741</td>\n",
              "      <td>41318</td>\n",
              "      <td>4154.1</td>\n",
              "      <td>160</td>\n",
              "      <td>47091</td>\n",
              "    </tr>\n",
              "    <tr>\n",
              "      <th>3</th>\n",
              "      <td>Angola</td>\n",
              "      <td>MiddleAfrica</td>\n",
              "      <td>1246700</td>\n",
              "      <td>29784</td>\n",
              "      <td>4714.1</td>\n",
              "      <td>175</td>\n",
              "      <td>8790</td>\n",
              "    </tr>\n",
              "    <tr>\n",
              "      <th>4</th>\n",
              "      <td>Antigua and Barbuda</td>\n",
              "      <td>Caribbean</td>\n",
              "      <td>442</td>\n",
              "      <td>102</td>\n",
              "      <td>14764.5</td>\n",
              "      <td>88</td>\n",
              "      <td>491</td>\n",
              "    </tr>\n",
              "    <tr>\n",
              "      <th>...</th>\n",
              "      <td>...</td>\n",
              "      <td>...</td>\n",
              "      <td>...</td>\n",
              "      <td>...</td>\n",
              "      <td>...</td>\n",
              "      <td>...</td>\n",
              "      <td>...</td>\n",
              "    </tr>\n",
              "    <tr>\n",
              "      <th>191</th>\n",
              "      <td>Venezuela (Bolivarian Republic of)</td>\n",
              "      <td>SouthAmerica</td>\n",
              "      <td>912050</td>\n",
              "      <td>31977</td>\n",
              "      <td>11068.9</td>\n",
              "      <td>118</td>\n",
              "      <td>16324</td>\n",
              "    </tr>\n",
              "    <tr>\n",
              "      <th>192</th>\n",
              "      <td>Viet Nam</td>\n",
              "      <td>South-easternAsia</td>\n",
              "      <td>330967</td>\n",
              "      <td>95541</td>\n",
              "      <td>2067.9</td>\n",
              "      <td>136</td>\n",
              "      <td>174111</td>\n",
              "    </tr>\n",
              "    <tr>\n",
              "      <th>193</th>\n",
              "      <td>Yemen</td>\n",
              "      <td>WesternAsia</td>\n",
              "      <td>527968</td>\n",
              "      <td>28250</td>\n",
              "      <td>1106.4</td>\n",
              "      <td>136</td>\n",
              "      <td>6861</td>\n",
              "    </tr>\n",
              "    <tr>\n",
              "      <th>194</th>\n",
              "      <td>Zambia</td>\n",
              "      <td>EasternAfrica</td>\n",
              "      <td>752612</td>\n",
              "      <td>17094</td>\n",
              "      <td>1311.1</td>\n",
              "      <td>179</td>\n",
              "      <td>7442</td>\n",
              "    </tr>\n",
              "    <tr>\n",
              "      <th>195</th>\n",
              "      <td>Zimbabwe</td>\n",
              "      <td>EasternAfrica</td>\n",
              "      <td>390757</td>\n",
              "      <td>16530</td>\n",
              "      <td>890.4</td>\n",
              "      <td>99</td>\n",
              "      <td>5212</td>\n",
              "    </tr>\n",
              "  </tbody>\n",
              "</table>\n",
              "<p>196 rows × 7 columns</p>\n",
              "</div>"
            ],
            "text/plain": [
              "                                country  ... International trade: Imports (million US$)\n",
              "0                           Afghanistan  ...                                       3568\n",
              "1                               Albania  ...                                       4669\n",
              "2                               Algeria  ...                                      47091\n",
              "3                                Angola  ...                                       8790\n",
              "4                   Antigua and Barbuda  ...                                        491\n",
              "..                                  ...  ...                                        ...\n",
              "191  Venezuela (Bolivarian Republic of)  ...                                      16324\n",
              "192                            Viet Nam  ...                                     174111\n",
              "193                               Yemen  ...                                       6861\n",
              "194                              Zambia  ...                                       7442\n",
              "195                            Zimbabwe  ...                                       5212\n",
              "\n",
              "[196 rows x 7 columns]"
            ]
          },
          "metadata": {},
          "execution_count": 3
        }
      ]
    },
    {
      "cell_type": "markdown",
      "metadata": {
        "id": "7UUBquoCoZto"
      },
      "source": [
        "**1.Find out how many countries are there in the dataset.**\n"
      ]
    },
    {
      "cell_type": "code",
      "metadata": {
        "colab": {
          "base_uri": "https://localhost:8080/"
        },
        "id": "EhBnWp82Z06n",
        "outputId": "ca5c01ba-1d09-4e21-d294-4dc250cd4a9d"
      },
      "source": [
        "data1['country'].nunique()"
      ],
      "execution_count": 4,
      "outputs": [
        {
          "output_type": "execute_result",
          "data": {
            "text/plain": [
              "196"
            ]
          },
          "metadata": {},
          "execution_count": 4
        }
      ]
    },
    {
      "cell_type": "markdown",
      "metadata": {
        "id": "8SKrE2kcpDvG"
      },
      "source": [
        "There are **196** countries in the given dataset"
      ]
    },
    {
      "cell_type": "markdown",
      "metadata": {
        "id": "NN1MLM1G8Ri1"
      },
      "source": [
        "**4.a On Average which region has the highest GDP per capita (current US%)**"
      ]
    },
    {
      "cell_type": "code",
      "metadata": {
        "id": "_eo-ukkG_sTe",
        "colab": {
          "base_uri": "https://localhost:8080/"
        },
        "outputId": "499c4914-00f4-4e65-90ff-1badc2e6fba0"
      },
      "source": [
        "gdpdata=data1.groupby(['Region'])[['GDP per capita (current US$)','International trade: Imports (million US$)']].mean()\n",
        "gdpdata['GDP per capita (current US$)'].sort_values(ascending=False)"
      ],
      "execution_count": 38,
      "outputs": [
        {
          "output_type": "execute_result",
          "data": {
            "text/plain": [
              "Region\n",
              "NorthernAmerica      57659.000000\n",
              "WesternEurope        55387.128571\n",
              "Oceania              44823.250000\n",
              "NorthernEurope       42098.220000\n",
              "EasternAsia          27967.614286\n",
              "WesternAsia          17013.938889\n",
              "Caribbean            15135.562500\n",
              "SouthernEurope       14462.741667\n",
              "South-easternAsia    10299.027273\n",
              "EasternEurope         9292.490000\n",
              "Melanesia             9261.960000\n",
              "Polynesia             8686.520000\n",
              "SouthAmerica          8499.775000\n",
              "CentralAmerica        6348.137500\n",
              "Micronesia            5008.300000\n",
              "CentralAsia           4329.880000\n",
              "SouthernAfrica        4191.900000\n",
              "NorthernAfrica        3934.960000\n",
              "MiddleAfrica          3928.833333\n",
              "SouthernAsia          2968.400000\n",
              "EasternAfrica         2088.852941\n",
              "WesternAfrica         1013.140000\n",
              "Name: GDP per capita (current US$), dtype: float64"
            ]
          },
          "metadata": {},
          "execution_count": 38
        }
      ]
    },
    {
      "cell_type": "markdown",
      "metadata": {
        "id": "DopeIXC8lOI_"
      },
      "source": [
        "on evaluation of the data the region having highest GDP on region wise is ***NORTHERNAMERICA*** as shown above with ***57659*** US$ as avegrage value of GDP"
      ]
    },
    {
      "cell_type": "markdown",
      "metadata": {
        "id": "r6BaFIP5mKBv"
      },
      "source": [
        "**4.b On Average which region has the highest International trade: Imports (million US$)**"
      ]
    },
    {
      "cell_type": "code",
      "metadata": {
        "colab": {
          "base_uri": "https://localhost:8080/"
        },
        "id": "-LQzogr9glki",
        "outputId": "a97e9695-93ca-48ea-865d-2d800ef2c3fc"
      },
      "source": [
        "gdpdata['International trade: Imports (million US$)'].sort_values(ascending=False)"
      ],
      "execution_count": 39,
      "outputs": [
        {
          "output_type": "execute_result",
          "data": {
            "text/plain": [
              "Region\n",
              "NorthernAmerica      663552.250000\n",
              "EasternAsia          451995.000000\n",
              "WesternEurope        407498.428571\n",
              "NorthernEurope       113407.200000\n",
              "Oceania              112914.500000\n",
              "South-easternAsia     98324.636364\n",
              "EasternEurope         85243.900000\n",
              "SouthernEurope        76666.666667\n",
              "SouthernAsia          58199.333333\n",
              "CentralAmerica        57031.500000\n",
              "WesternAsia           46025.555556\n",
              "NorthernAfrica        35034.400000\n",
              "SouthAmerica          32885.666667\n",
              "SouthernAfrica        18005.600000\n",
              "CentralAsia           12063.400000\n",
              "WesternAfrica          4898.333333\n",
              "EasternAfrica          4726.176471\n",
              "MiddleAfrica           4381.222222\n",
              "Caribbean              3057.312500\n",
              "Melanesia              2896.400000\n",
              "Polynesia               432.000000\n",
              "Micronesia               99.000000\n",
              "Name: International trade: Imports (million US$), dtype: float64"
            ]
          },
          "metadata": {},
          "execution_count": 39
        }
      ]
    },
    {
      "cell_type": "markdown",
      "metadata": {
        "id": "tPl79f7enWPS"
      },
      "source": [
        "On evaluation of the data the region having highest International trade: Imports on region wise is **NORTHERNAMERICA**as shown above with **663552.25** millon US$ as average"
      ]
    },
    {
      "cell_type": "code",
      "metadata": {
        "id": "Am8OBVSlnS4m"
      },
      "source": [
        ""
      ],
      "execution_count": null,
      "outputs": []
    }
  ]
}
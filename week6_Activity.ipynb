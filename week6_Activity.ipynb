{
  "nbformat": 4,
  "nbformat_minor": 0,
  "metadata": {
    "colab": {
      "name": "week6-Activity.ipynb",
      "provenance": [],
      "collapsed_sections": []
    },
    "kernelspec": {
      "name": "python3",
      "display_name": "Python 3"
    },
    "language_info": {
      "name": "python"
    }
  },
  "cells": [
    {
      "cell_type": "code",
      "metadata": {
        "id": "iinZtXbaXrW2"
      },
      "source": [
        "import pandas as pd\n",
        "import numpy as np\n",
        "import matplotlib.pyplot as plt\n",
        "import seaborn as sns"
      ],
      "execution_count": 26,
      "outputs": []
    },
    {
      "cell_type": "code",
      "metadata": {
        "id": "Hd_C0FgnXwcm"
      },
      "source": [
        "data1 = pd.read_excel('/content/drive/MyDrive/DSA WORKS/Week 6/Dataset_w6.xlsx')"
      ],
      "execution_count": 3,
      "outputs": []
    },
    {
      "cell_type": "code",
      "metadata": {
        "colab": {
          "base_uri": "https://localhost:8080/",
          "height": 476
        },
        "id": "V0RtqdB-ZytQ",
        "outputId": "c188f754-a183-454b-db92-15f71437a0c1"
      },
      "source": [
        "data1"
      ],
      "execution_count": 4,
      "outputs": [
        {
          "output_type": "execute_result",
          "data": {
            "text/html": [
              "<div>\n",
              "<style scoped>\n",
              "    .dataframe tbody tr th:only-of-type {\n",
              "        vertical-align: middle;\n",
              "    }\n",
              "\n",
              "    .dataframe tbody tr th {\n",
              "        vertical-align: top;\n",
              "    }\n",
              "\n",
              "    .dataframe thead th {\n",
              "        text-align: right;\n",
              "    }\n",
              "</style>\n",
              "<table border=\"1\" class=\"dataframe\">\n",
              "  <thead>\n",
              "    <tr style=\"text-align: right;\">\n",
              "      <th></th>\n",
              "      <th>country</th>\n",
              "      <th>Region</th>\n",
              "      <th>Surface area (km2)</th>\n",
              "      <th>Population in thousands (2017)</th>\n",
              "      <th>GDP per capita (current US$)</th>\n",
              "      <th>Agricultural production index</th>\n",
              "      <th>International trade: Imports (million US$)</th>\n",
              "    </tr>\n",
              "  </thead>\n",
              "  <tbody>\n",
              "    <tr>\n",
              "      <th>0</th>\n",
              "      <td>Afghanistan</td>\n",
              "      <td>SouthernAsia</td>\n",
              "      <td>652864</td>\n",
              "      <td>35530</td>\n",
              "      <td>623.2</td>\n",
              "      <td>125</td>\n",
              "      <td>3568</td>\n",
              "    </tr>\n",
              "    <tr>\n",
              "      <th>1</th>\n",
              "      <td>Albania</td>\n",
              "      <td>SouthernEurope</td>\n",
              "      <td>28748</td>\n",
              "      <td>2930</td>\n",
              "      <td>3984.2</td>\n",
              "      <td>134</td>\n",
              "      <td>4669</td>\n",
              "    </tr>\n",
              "    <tr>\n",
              "      <th>2</th>\n",
              "      <td>Algeria</td>\n",
              "      <td>NorthernAfrica</td>\n",
              "      <td>2381741</td>\n",
              "      <td>41318</td>\n",
              "      <td>4154.1</td>\n",
              "      <td>160</td>\n",
              "      <td>47091</td>\n",
              "    </tr>\n",
              "    <tr>\n",
              "      <th>3</th>\n",
              "      <td>Angola</td>\n",
              "      <td>MiddleAfrica</td>\n",
              "      <td>1246700</td>\n",
              "      <td>29784</td>\n",
              "      <td>4714.1</td>\n",
              "      <td>175</td>\n",
              "      <td>8790</td>\n",
              "    </tr>\n",
              "    <tr>\n",
              "      <th>4</th>\n",
              "      <td>Antigua and Barbuda</td>\n",
              "      <td>Caribbean</td>\n",
              "      <td>442</td>\n",
              "      <td>102</td>\n",
              "      <td>14764.5</td>\n",
              "      <td>88</td>\n",
              "      <td>491</td>\n",
              "    </tr>\n",
              "    <tr>\n",
              "      <th>...</th>\n",
              "      <td>...</td>\n",
              "      <td>...</td>\n",
              "      <td>...</td>\n",
              "      <td>...</td>\n",
              "      <td>...</td>\n",
              "      <td>...</td>\n",
              "      <td>...</td>\n",
              "    </tr>\n",
              "    <tr>\n",
              "      <th>191</th>\n",
              "      <td>Venezuela (Bolivarian Republic of)</td>\n",
              "      <td>SouthAmerica</td>\n",
              "      <td>912050</td>\n",
              "      <td>31977</td>\n",
              "      <td>11068.9</td>\n",
              "      <td>118</td>\n",
              "      <td>16324</td>\n",
              "    </tr>\n",
              "    <tr>\n",
              "      <th>192</th>\n",
              "      <td>Viet Nam</td>\n",
              "      <td>South-easternAsia</td>\n",
              "      <td>330967</td>\n",
              "      <td>95541</td>\n",
              "      <td>2067.9</td>\n",
              "      <td>136</td>\n",
              "      <td>174111</td>\n",
              "    </tr>\n",
              "    <tr>\n",
              "      <th>193</th>\n",
              "      <td>Yemen</td>\n",
              "      <td>WesternAsia</td>\n",
              "      <td>527968</td>\n",
              "      <td>28250</td>\n",
              "      <td>1106.4</td>\n",
              "      <td>136</td>\n",
              "      <td>6861</td>\n",
              "    </tr>\n",
              "    <tr>\n",
              "      <th>194</th>\n",
              "      <td>Zambia</td>\n",
              "      <td>EasternAfrica</td>\n",
              "      <td>752612</td>\n",
              "      <td>17094</td>\n",
              "      <td>1311.1</td>\n",
              "      <td>179</td>\n",
              "      <td>7442</td>\n",
              "    </tr>\n",
              "    <tr>\n",
              "      <th>195</th>\n",
              "      <td>Zimbabwe</td>\n",
              "      <td>EasternAfrica</td>\n",
              "      <td>390757</td>\n",
              "      <td>16530</td>\n",
              "      <td>890.4</td>\n",
              "      <td>99</td>\n",
              "      <td>5212</td>\n",
              "    </tr>\n",
              "  </tbody>\n",
              "</table>\n",
              "<p>196 rows × 7 columns</p>\n",
              "</div>"
            ],
            "text/plain": [
              "                                country  ... International trade: Imports (million US$)\n",
              "0                           Afghanistan  ...                                       3568\n",
              "1                               Albania  ...                                       4669\n",
              "2                               Algeria  ...                                      47091\n",
              "3                                Angola  ...                                       8790\n",
              "4                   Antigua and Barbuda  ...                                        491\n",
              "..                                  ...  ...                                        ...\n",
              "191  Venezuela (Bolivarian Republic of)  ...                                      16324\n",
              "192                            Viet Nam  ...                                     174111\n",
              "193                               Yemen  ...                                       6861\n",
              "194                              Zambia  ...                                       7442\n",
              "195                            Zimbabwe  ...                                       5212\n",
              "\n",
              "[196 rows x 7 columns]"
            ]
          },
          "metadata": {},
          "execution_count": 4
        }
      ]
    },
    {
      "cell_type": "markdown",
      "metadata": {
        "id": "7UUBquoCoZto"
      },
      "source": [
        "**1.Find out how many countries are there in the dataset.**\n"
      ]
    },
    {
      "cell_type": "code",
      "metadata": {
        "colab": {
          "base_uri": "https://localhost:8080/"
        },
        "id": "EhBnWp82Z06n",
        "outputId": "bd7e658d-b968-4f49-b4d8-9f2d357be310"
      },
      "source": [
        "data1['country'].nunique()"
      ],
      "execution_count": 5,
      "outputs": [
        {
          "output_type": "execute_result",
          "data": {
            "text/plain": [
              "196"
            ]
          },
          "metadata": {},
          "execution_count": 5
        }
      ]
    },
    {
      "cell_type": "markdown",
      "metadata": {
        "id": "8SKrE2kcpDvG"
      },
      "source": [
        "There are **196** countries in the given dataset"
      ]
    },
    {
      "cell_type": "markdown",
      "metadata": {
        "id": "z17sj_pRW7Qa"
      },
      "source": [
        "**Q2.Below Visualization represent Average GDP based on Regions**"
      ]
    },
    {
      "cell_type": "code",
      "metadata": {
        "colab": {
          "base_uri": "https://localhost:8080/",
          "height": 380
        },
        "id": "Q0ouk3-wXBIa",
        "outputId": "cd41a57f-99fc-4846-e43e-79369e140499"
      },
      "source": [
        "\n",
        "data1.groupby('Region').mean().sort_values('GDP per capita (current US$)')[['GDP per capita (current US$)']].plot(kind='bar')"
      ],
      "execution_count": 17,
      "outputs": [
        {
          "output_type": "execute_result",
          "data": {
            "text/plain": [
              "<matplotlib.axes._subplots.AxesSubplot at 0x7fc960685b50>"
            ]
          },
          "metadata": {},
          "execution_count": 17
        },
        {
          "output_type": "display_data",
          "data": {
            "image/png": "[encoded data removed]",
            "text/plain": [
              "<Figure size 432x288 with 1 Axes>"
            ]
          },
          "metadata": {
            "needs_background": "light"
          }
        }
      ]
    },
    {
      "cell_type": "code",
      "metadata": {
        "colab": {
          "base_uri": "https://localhost:8080/",
          "height": 483
        },
        "id": "mV2bs6xbtvBq",
        "outputId": "5a688558-80b8-4583-a53c-0a6e09492700"
      },
      "source": [
        "plt.figure(figsize=(16,6))\n",
        "plt.hist(data1['Region'],color='brown',rwidth=0.5)\n",
        "plt.xlabel('Agriculture index')\n",
        "plt.ylabel('Regions')\n",
        "plt.xticks(rotation=45)\n",
        "plt.title('Agricutre production in each Region')\n"
      ],
      "execution_count": 63,
      "outputs": [
        {
          "output_type": "execute_result",
          "data": {
            "text/plain": [
              "Text(0.5, 1.0, 'Agricutre production in each Region')"
            ]
          },
          "metadata": {},
          "execution_count": 63
        },
        {
          "output_type": "display_data",
          "data": {
            "image/png": "[encoded data removed]",
            "text/plain": [
              "<Figure size 1152x432 with 1 Axes>"
            ]
          },
          "metadata": {
            "needs_background": "light"
          }
        }
      ]
    },
    {
      "cell_type": "code",
      "metadata": {
        "colab": {
          "base_uri": "https://localhost:8080/",
          "height": 704
        },
        "id": "y8Ly6_mtyXy8",
        "outputId": "1ca9fe85-1ed4-4e60-a4e2-79298b32f51a"
      },
      "source": [
        "  fig=plt.subplots(figsize=(20,10))\n",
        "plt.xticks(rotation=90)\n",
        "sns.barplot(x='Region',y='Population in thousands (2017)',data=data1)"
      ],
      "execution_count": 33,
      "outputs": [
        {
          "output_type": "execute_result",
          "data": {
            "text/plain": [
              "<matplotlib.axes._subplots.AxesSubplot at 0x7fc94c5d5b10>"
            ]
          },
          "metadata": {},
          "execution_count": 33
        },
        {
          "output_type": "display_data",
          "data": {
            "image/png": "[encoded data removed]",
            "text/plain": [
              "<Figure size 1440x720 with 1 Axes>"
            ]
          },
          "metadata": {
            "needs_background": "light"
          }
        }
      ]
    },
    {
      "cell_type": "code",
      "metadata": {
        "colab": {
          "base_uri": "https://localhost:8080/",
          "height": 590
        },
        "id": "aQdofRAF8XOm",
        "outputId": "5645a95e-b98c-46e4-ddce-2323e055dc14"
      },
      "source": [
        "surdata=data1.nlargest(n=10,columns='Surface area (km2)')\n",
        "plt.figure(figsize=(14,7))\n",
        "plt.bar(surdata['country'],surdata['Surface area (km2)'],color='green')\n",
        "plt.ylabel('Surface area in KMsquare')\n",
        "plt.xlabel('Country')\n",
        "plt.title('Top 10 country with largest surfacearea')\n",
        "plt.xticks(rotation=90)"
      ],
      "execution_count": 68,
      "outputs": [
        {
          "output_type": "execute_result",
          "data": {
            "text/plain": [
              "([0, 1, 2, 3, 4, 5, 6, 7, 8, 9], <a list of 10 Text major ticklabel objects>)"
            ]
          },
          "metadata": {},
          "execution_count": 68
        },
        {
          "output_type": "display_data",
          "data": {
            "image/png": "[encoded data removed]",
            "text/plain": [
              "<Figure size 1008x504 with 1 Axes>"
            ]
          },
          "metadata": {
            "needs_background": "light"
          }
        }
      ]
    },
    {
      "cell_type": "markdown",
      "metadata": {
        "id": "r1XmAVUq0di3"
      },
      "source": [
        "Top 5 country with higest population"
      ]
    },
    {
      "cell_type": "code",
      "metadata": {
        "colab": {
          "base_uri": "https://localhost:8080/",
          "height": 350
        },
        "id": "TaMutgL6y8ea",
        "outputId": "46af5d21-be07-4cbf-d77b-4b76c425ca21"
      },
      "source": [
        "plt.figure(figsize=(10,5))\n",
        "pop5=data1.nlargest(n=5,columns='Population in thousands (2017)')\n",
        "plt.bar(pop5['country'],pop5['Population in thousands (2017)'])\n",
        "plt.xlabel('Country')\n",
        "plt.ylabel('Population in thousands')\n",
        "plt.title('Country vs Population')\n",
        "plt.show()"
      ],
      "execution_count": 44,
      "outputs": [
        {
          "output_type": "display_data",
          "data": {
            "image/png": "[encoded data removed]",
            "text/plain": [
              "<Figure size 720x360 with 1 Axes>"
            ]
          },
          "metadata": {
            "needs_background": "light"
          }
        }
      ]
    },
    {
      "cell_type": "markdown",
      "metadata": {
        "id": "l4FZ1JLL0Opk"
      },
      "source": [
        "Top 5 countries with largest population is shown in the above table."
      ]
    },
    {
      "cell_type": "markdown",
      "metadata": {
        "id": "XNkgXtXuXyZf"
      },
      "source": [
        "**Countries with TOP 10 GDP**"
      ]
    },
    {
      "cell_type": "code",
      "metadata": {
        "colab": {
          "base_uri": "https://localhost:8080/",
          "height": 398
        },
        "id": "6Ohx_ppvX0IG",
        "outputId": "d477e48c-a3be-4d1d-d2b8-d154304d2cf9"
      },
      "source": [
        "top10=data1.nlargest(n=10,columns='GDP per capita (current US$)')\n",
        "top10=pd.DataFrame(top10)\n",
        "top10"
      ],
      "execution_count": 11,
      "outputs": [
        {
          "output_type": "execute_result",
          "data": {
            "text/html": [
              "<div>\n",
              "<style scoped>\n",
              "    .dataframe tbody tr th:only-of-type {\n",
              "        vertical-align: middle;\n",
              "    }\n",
              "\n",
              "    .dataframe tbody tr th {\n",
              "        vertical-align: top;\n",
              "    }\n",
              "\n",
              "    .dataframe thead th {\n",
              "        text-align: right;\n",
              "    }\n",
              "</style>\n",
              "<table border=\"1\" class=\"dataframe\">\n",
              "  <thead>\n",
              "    <tr style=\"text-align: right;\">\n",
              "      <th></th>\n",
              "      <th>country</th>\n",
              "      <th>Region</th>\n",
              "      <th>Surface area (km2)</th>\n",
              "      <th>Population in thousands (2017)</th>\n",
              "      <th>GDP per capita (current US$)</th>\n",
              "      <th>Agricultural production index</th>\n",
              "      <th>International trade: Imports (million US$)</th>\n",
              "    </tr>\n",
              "  </thead>\n",
              "  <tbody>\n",
              "    <tr>\n",
              "      <th>104</th>\n",
              "      <td>Luxembourg</td>\n",
              "      <td>WesternEurope</td>\n",
              "      <td>2586</td>\n",
              "      <td>584</td>\n",
              "      <td>100160.8</td>\n",
              "      <td>98</td>\n",
              "      <td>19124</td>\n",
              "    </tr>\n",
              "    <tr>\n",
              "      <th>18</th>\n",
              "      <td>Bermuda</td>\n",
              "      <td>NorthernAmerica</td>\n",
              "      <td>53</td>\n",
              "      <td>61</td>\n",
              "      <td>94399.9</td>\n",
              "      <td>115</td>\n",
              "      <td>971</td>\n",
              "    </tr>\n",
              "    <tr>\n",
              "      <th>169</th>\n",
              "      <td>Switzerland</td>\n",
              "      <td>WesternEurope</td>\n",
              "      <td>41291</td>\n",
              "      <td>8476</td>\n",
              "      <td>80831.1</td>\n",
              "      <td>106</td>\n",
              "      <td>269157</td>\n",
              "    </tr>\n",
              "    <tr>\n",
              "      <th>38</th>\n",
              "      <td>China, Macao SAR</td>\n",
              "      <td>EasternAsia</td>\n",
              "      <td>30</td>\n",
              "      <td>623</td>\n",
              "      <td>78586.4</td>\n",
              "      <td>86</td>\n",
              "      <td>8924</td>\n",
              "    </tr>\n",
              "    <tr>\n",
              "      <th>130</th>\n",
              "      <td>Norway</td>\n",
              "      <td>NorthernEurope</td>\n",
              "      <td>386194</td>\n",
              "      <td>5305</td>\n",
              "      <td>74185.5</td>\n",
              "      <td>103</td>\n",
              "      <td>72473</td>\n",
              "    </tr>\n",
              "    <tr>\n",
              "      <th>141</th>\n",
              "      <td>Qatar</td>\n",
              "      <td>WesternAsia</td>\n",
              "      <td>11607</td>\n",
              "      <td>2639</td>\n",
              "      <td>73653.4</td>\n",
              "      <td>154</td>\n",
              "      <td>32058</td>\n",
              "    </tr>\n",
              "    <tr>\n",
              "      <th>33</th>\n",
              "      <td>Cayman Islands</td>\n",
              "      <td>Caribbean</td>\n",
              "      <td>264</td>\n",
              "      <td>62</td>\n",
              "      <td>62132.0</td>\n",
              "      <td>104</td>\n",
              "      <td>991</td>\n",
              "    </tr>\n",
              "    <tr>\n",
              "      <th>86</th>\n",
              "      <td>Ireland</td>\n",
              "      <td>NorthernEurope</td>\n",
              "      <td>69797</td>\n",
              "      <td>4762</td>\n",
              "      <td>60513.6</td>\n",
              "      <td>102</td>\n",
              "      <td>76997</td>\n",
              "    </tr>\n",
              "    <tr>\n",
              "      <th>187</th>\n",
              "      <td>United States of America</td>\n",
              "      <td>NorthernAmerica</td>\n",
              "      <td>9833517</td>\n",
              "      <td>324460</td>\n",
              "      <td>56053.8</td>\n",
              "      <td>111</td>\n",
              "      <td>2249661</td>\n",
              "    </tr>\n",
              "    <tr>\n",
              "      <th>51</th>\n",
              "      <td>Denmark</td>\n",
              "      <td>NorthernEurope</td>\n",
              "      <td>42921</td>\n",
              "      <td>5734</td>\n",
              "      <td>53149.3</td>\n",
              "      <td>105</td>\n",
              "      <td>85133</td>\n",
              "    </tr>\n",
              "  </tbody>\n",
              "</table>\n",
              "</div>"
            ],
            "text/plain": [
              "                      country  ... International trade: Imports (million US$)\n",
              "104                Luxembourg  ...                                      19124\n",
              "18                    Bermuda  ...                                        971\n",
              "169               Switzerland  ...                                     269157\n",
              "38           China, Macao SAR  ...                                       8924\n",
              "130                    Norway  ...                                      72473\n",
              "141                     Qatar  ...                                      32058\n",
              "33             Cayman Islands  ...                                        991\n",
              "86                    Ireland  ...                                      76997\n",
              "187  United States of America  ...                                    2249661\n",
              "51                    Denmark  ...                                      85133\n",
              "\n",
              "[10 rows x 7 columns]"
            ]
          },
          "metadata": {},
          "execution_count": 11
        }
      ]
    },
    {
      "cell_type": "markdown",
      "metadata": {
        "id": "gtbjcsPyX_zN"
      },
      "source": [
        "**Countries with Bottom 10 GDP**"
      ]
    },
    {
      "cell_type": "code",
      "metadata": {
        "colab": {
          "base_uri": "https://localhost:8080/",
          "height": 398
        },
        "id": "-tqSFuDCYBXs",
        "outputId": "9513242c-7e61-4e11-e250-4bb492dc20ee"
      },
      "source": [
        "bottom10=data1.nsmallest(n=10,columns='GDP per capita (current US$)')\n",
        "bottom10=pd.DataFrame(bottom10)\n",
        "bottom10"
      ],
      "execution_count": 12,
      "outputs": [
        {
          "output_type": "execute_result",
          "data": {
            "text/html": [
              "<div>\n",
              "<style scoped>\n",
              "    .dataframe tbody tr th:only-of-type {\n",
              "        vertical-align: middle;\n",
              "    }\n",
              "\n",
              "    .dataframe tbody tr th {\n",
              "        vertical-align: top;\n",
              "    }\n",
              "\n",
              "    .dataframe thead th {\n",
              "        text-align: right;\n",
              "    }\n",
              "</style>\n",
              "<table border=\"1\" class=\"dataframe\">\n",
              "  <thead>\n",
              "    <tr style=\"text-align: right;\">\n",
              "      <th></th>\n",
              "      <th>country</th>\n",
              "      <th>Region</th>\n",
              "      <th>Surface area (km2)</th>\n",
              "      <th>Population in thousands (2017)</th>\n",
              "      <th>GDP per capita (current US$)</th>\n",
              "      <th>Agricultural production index</th>\n",
              "      <th>International trade: Imports (million US$)</th>\n",
              "    </tr>\n",
              "  </thead>\n",
              "  <tbody>\n",
              "    <tr>\n",
              "      <th>161</th>\n",
              "      <td>Somalia</td>\n",
              "      <td>EasternAfrica</td>\n",
              "      <td>637657</td>\n",
              "      <td>14742</td>\n",
              "      <td>144.5</td>\n",
              "      <td>112</td>\n",
              "      <td>530</td>\n",
              "    </tr>\n",
              "    <tr>\n",
              "      <th>28</th>\n",
              "      <td>Burundi</td>\n",
              "      <td>EasternAfrica</td>\n",
              "      <td>27830</td>\n",
              "      <td>10864</td>\n",
              "      <td>244.6</td>\n",
              "      <td>109</td>\n",
              "      <td>625</td>\n",
              "    </tr>\n",
              "    <tr>\n",
              "      <th>34</th>\n",
              "      <td>Central African Republic</td>\n",
              "      <td>MiddleAfrica</td>\n",
              "      <td>622984</td>\n",
              "      <td>4659</td>\n",
              "      <td>333.2</td>\n",
              "      <td>114</td>\n",
              "      <td>147</td>\n",
              "    </tr>\n",
              "    <tr>\n",
              "      <th>128</th>\n",
              "      <td>Niger</td>\n",
              "      <td>WesternAfrica</td>\n",
              "      <td>1267000</td>\n",
              "      <td>21477</td>\n",
              "      <td>359.0</td>\n",
              "      <td>148</td>\n",
              "      <td>1861</td>\n",
              "    </tr>\n",
              "    <tr>\n",
              "      <th>106</th>\n",
              "      <td>Malawi</td>\n",
              "      <td>EasternAfrica</td>\n",
              "      <td>118484</td>\n",
              "      <td>18622</td>\n",
              "      <td>372.9</td>\n",
              "      <td>149</td>\n",
              "      <td>1649</td>\n",
              "    </tr>\n",
              "    <tr>\n",
              "      <th>105</th>\n",
              "      <td>Madagascar</td>\n",
              "      <td>EasternAfrica</td>\n",
              "      <td>587295</td>\n",
              "      <td>25571</td>\n",
              "      <td>401.8</td>\n",
              "      <td>119</td>\n",
              "      <td>2965</td>\n",
              "    </tr>\n",
              "    <tr>\n",
              "      <th>101</th>\n",
              "      <td>Liberia</td>\n",
              "      <td>WesternAfrica</td>\n",
              "      <td>111369</td>\n",
              "      <td>4732</td>\n",
              "      <td>455.9</td>\n",
              "      <td>104</td>\n",
              "      <td>727</td>\n",
              "    </tr>\n",
              "    <tr>\n",
              "      <th>67</th>\n",
              "      <td>Gambia</td>\n",
              "      <td>WesternAfrica</td>\n",
              "      <td>11295</td>\n",
              "      <td>2101</td>\n",
              "      <td>473.2</td>\n",
              "      <td>82</td>\n",
              "      <td>471</td>\n",
              "    </tr>\n",
              "    <tr>\n",
              "      <th>50</th>\n",
              "      <td>Democratic Republic of the Congo</td>\n",
              "      <td>MiddleAfrica</td>\n",
              "      <td>2344858</td>\n",
              "      <td>81340</td>\n",
              "      <td>486.2</td>\n",
              "      <td>104</td>\n",
              "      <td>5906</td>\n",
              "    </tr>\n",
              "    <tr>\n",
              "      <th>120</th>\n",
              "      <td>Mozambique</td>\n",
              "      <td>EasternAfrica</td>\n",
              "      <td>799380</td>\n",
              "      <td>29669</td>\n",
              "      <td>529.2</td>\n",
              "      <td>137</td>\n",
              "      <td>5295</td>\n",
              "    </tr>\n",
              "  </tbody>\n",
              "</table>\n",
              "</div>"
            ],
            "text/plain": [
              "                              country  ... International trade: Imports (million US$)\n",
              "161                           Somalia  ...                                        530\n",
              "28                            Burundi  ...                                        625\n",
              "34           Central African Republic  ...                                        147\n",
              "128                             Niger  ...                                       1861\n",
              "106                            Malawi  ...                                       1649\n",
              "105                        Madagascar  ...                                       2965\n",
              "101                           Liberia  ...                                        727\n",
              "67                             Gambia  ...                                        471\n",
              "50   Democratic Republic of the Congo  ...                                       5906\n",
              "120                        Mozambique  ...                                       5295\n",
              "\n",
              "[10 rows x 7 columns]"
            ]
          },
          "metadata": {},
          "execution_count": 12
        }
      ]
    },
    {
      "cell_type": "markdown",
      "metadata": {
        "id": "ZQezcih5YRNv"
      },
      "source": [
        "**Q3.Region and Number of countries under them**"
      ]
    },
    {
      "cell_type": "code",
      "metadata": {
        "colab": {
          "base_uri": "https://localhost:8080/",
          "height": 771
        },
        "id": "Etxc8JL3YS2l",
        "outputId": "5b9bb8fe-2f22-4aaf-aaa3-27264553a6f5"
      },
      "source": [
        "data2=data1[['Region','country']]\n",
        "\n",
        "data3=data2.groupby('Region').count()\n",
        "\n",
        "data3"
      ],
      "execution_count": 13,
      "outputs": [
        {
          "output_type": "execute_result",
          "data": {
            "text/html": [
              "<div>\n",
              "<style scoped>\n",
              "    .dataframe tbody tr th:only-of-type {\n",
              "        vertical-align: middle;\n",
              "    }\n",
              "\n",
              "    .dataframe tbody tr th {\n",
              "        vertical-align: top;\n",
              "    }\n",
              "\n",
              "    .dataframe thead th {\n",
              "        text-align: right;\n",
              "    }\n",
              "</style>\n",
              "<table border=\"1\" class=\"dataframe\">\n",
              "  <thead>\n",
              "    <tr style=\"text-align: right;\">\n",
              "      <th></th>\n",
              "      <th>country</th>\n",
              "    </tr>\n",
              "    <tr>\n",
              "      <th>Region</th>\n",
              "      <th></th>\n",
              "    </tr>\n",
              "  </thead>\n",
              "  <tbody>\n",
              "    <tr>\n",
              "      <th>Caribbean</th>\n",
              "      <td>16</td>\n",
              "    </tr>\n",
              "    <tr>\n",
              "      <th>CentralAmerica</th>\n",
              "      <td>8</td>\n",
              "    </tr>\n",
              "    <tr>\n",
              "      <th>CentralAsia</th>\n",
              "      <td>5</td>\n",
              "    </tr>\n",
              "    <tr>\n",
              "      <th>EasternAfrica</th>\n",
              "      <td>17</td>\n",
              "    </tr>\n",
              "    <tr>\n",
              "      <th>EasternAsia</th>\n",
              "      <td>7</td>\n",
              "    </tr>\n",
              "    <tr>\n",
              "      <th>EasternEurope</th>\n",
              "      <td>10</td>\n",
              "    </tr>\n",
              "    <tr>\n",
              "      <th>Melanesia</th>\n",
              "      <td>5</td>\n",
              "    </tr>\n",
              "    <tr>\n",
              "      <th>Micronesia</th>\n",
              "      <td>4</td>\n",
              "    </tr>\n",
              "    <tr>\n",
              "      <th>MiddleAfrica</th>\n",
              "      <td>9</td>\n",
              "    </tr>\n",
              "    <tr>\n",
              "      <th>NorthernAfrica</th>\n",
              "      <td>5</td>\n",
              "    </tr>\n",
              "    <tr>\n",
              "      <th>NorthernAmerica</th>\n",
              "      <td>4</td>\n",
              "    </tr>\n",
              "    <tr>\n",
              "      <th>NorthernEurope</th>\n",
              "      <td>10</td>\n",
              "    </tr>\n",
              "    <tr>\n",
              "      <th>Oceania</th>\n",
              "      <td>2</td>\n",
              "    </tr>\n",
              "    <tr>\n",
              "      <th>Polynesia</th>\n",
              "      <td>5</td>\n",
              "    </tr>\n",
              "    <tr>\n",
              "      <th>South-easternAsia</th>\n",
              "      <td>11</td>\n",
              "    </tr>\n",
              "    <tr>\n",
              "      <th>SouthAmerica</th>\n",
              "      <td>12</td>\n",
              "    </tr>\n",
              "    <tr>\n",
              "      <th>SouthernAfrica</th>\n",
              "      <td>5</td>\n",
              "    </tr>\n",
              "    <tr>\n",
              "      <th>SouthernAsia</th>\n",
              "      <td>9</td>\n",
              "    </tr>\n",
              "    <tr>\n",
              "      <th>SouthernEurope</th>\n",
              "      <td>12</td>\n",
              "    </tr>\n",
              "    <tr>\n",
              "      <th>WesternAfrica</th>\n",
              "      <td>15</td>\n",
              "    </tr>\n",
              "    <tr>\n",
              "      <th>WesternAsia</th>\n",
              "      <td>18</td>\n",
              "    </tr>\n",
              "    <tr>\n",
              "      <th>WesternEurope</th>\n",
              "      <td>7</td>\n",
              "    </tr>\n",
              "  </tbody>\n",
              "</table>\n",
              "</div>"
            ],
            "text/plain": [
              "                   country\n",
              "Region                    \n",
              "Caribbean               16\n",
              "CentralAmerica           8\n",
              "CentralAsia              5\n",
              "EasternAfrica           17\n",
              "EasternAsia              7\n",
              "EasternEurope           10\n",
              "Melanesia                5\n",
              "Micronesia               4\n",
              "MiddleAfrica             9\n",
              "NorthernAfrica           5\n",
              "NorthernAmerica          4\n",
              "NorthernEurope          10\n",
              "Oceania                  2\n",
              "Polynesia                5\n",
              "South-easternAsia       11\n",
              "SouthAmerica            12\n",
              "SouthernAfrica           5\n",
              "SouthernAsia             9\n",
              "SouthernEurope          12\n",
              "WesternAfrica           15\n",
              "WesternAsia             18\n",
              "WesternEurope            7"
            ]
          },
          "metadata": {},
          "execution_count": 13
        }
      ]
    },
    {
      "cell_type": "code",
      "metadata": {
        "colab": {
          "base_uri": "https://localhost:8080/",
          "height": 378
        },
        "id": "c5KeKfJBYf38",
        "outputId": "2ba510b0-63ba-4f29-a00c-d2e99cf5fe46"
      },
      "source": [
        "data1.groupby('Region').count()[['country']].plot(kind='bar')\n",
        "plt."
      ],
      "execution_count": 14,
      "outputs": [
        {
          "output_type": "execute_result",
          "data": {
            "text/plain": [
              "<matplotlib.axes._subplots.AxesSubplot at 0x7fc960ead790>"
            ]
          },
          "metadata": {},
          "execution_count": 14
        },
        {
          "output_type": "display_data",
          "data": {
            "image/png": "[encoded data removed]",
            "text/plain": [
              "<Figure size 432x288 with 1 Axes>"
            ]
          },
          "metadata": {
            "needs_background": "light"
          }
        }
      ]
    },
    {
      "cell_type": "markdown",
      "metadata": {
        "id": "NN1MLM1G8Ri1"
      },
      "source": [
        "**4.a On Average which region has the highest GDP per capita (current US%)**"
      ]
    },
    {
      "cell_type": "code",
      "metadata": {
        "id": "_eo-ukkG_sTe",
        "colab": {
          "base_uri": "https://localhost:8080/"
        },
        "outputId": "4a4ef661-4266-4e3a-ce5a-661ec8345211"
      },
      "source": [
        "gdpdata=data1.groupby(['Region'])[['GDP per capita (current US$)','International trade: Imports (million US$)']].mean()\n",
        "gdpdata['GDP per capita (current US$)'].sort_values(ascending=False)"
      ],
      "execution_count": 6,
      "outputs": [
        {
          "output_type": "execute_result",
          "data": {
            "text/plain": [
              "Region\n",
              "NorthernAmerica      57659.000000\n",
              "WesternEurope        55387.128571\n",
              "Oceania              44823.250000\n",
              "NorthernEurope       42098.220000\n",
              "EasternAsia          27967.614286\n",
              "WesternAsia          17013.938889\n",
              "Caribbean            15135.562500\n",
              "SouthernEurope       14462.741667\n",
              "South-easternAsia    10299.027273\n",
              "EasternEurope         9292.490000\n",
              "Melanesia             9261.960000\n",
              "Polynesia             8686.520000\n",
              "SouthAmerica          8499.775000\n",
              "CentralAmerica        6348.137500\n",
              "Micronesia            5008.300000\n",
              "CentralAsia           4329.880000\n",
              "SouthernAfrica        4191.900000\n",
              "NorthernAfrica        3934.960000\n",
              "MiddleAfrica          3928.833333\n",
              "SouthernAsia          2968.400000\n",
              "EasternAfrica         2088.852941\n",
              "WesternAfrica         1013.140000\n",
              "Name: GDP per capita (current US$), dtype: float64"
            ]
          },
          "metadata": {},
          "execution_count": 6
        }
      ]
    },
    {
      "cell_type": "markdown",
      "metadata": {
        "id": "DopeIXC8lOI_"
      },
      "source": [
        "on evaluation of the data the region having highest GDP on region wise is ***NORTHERNAMERICA*** as shown above with ***57659*** US$ as avegrage value of GDP"
      ]
    },
    {
      "cell_type": "markdown",
      "metadata": {
        "id": "r6BaFIP5mKBv"
      },
      "source": [
        "**4.b On Average which region has the highest International trade: Imports (million US$)**"
      ]
    },
    {
      "cell_type": "code",
      "metadata": {
        "colab": {
          "base_uri": "https://localhost:8080/"
        },
        "id": "-LQzogr9glki",
        "outputId": "c2cc3855-614c-4515-88c7-65d0c3d7da1d"
      },
      "source": [
        "gdpdata['International trade: Imports (million US$)'].sort_values(ascending=False)"
      ],
      "execution_count": 7,
      "outputs": [
        {
          "output_type": "execute_result",
          "data": {
            "text/plain": [
              "Region\n",
              "NorthernAmerica      663552.250000\n",
              "EasternAsia          451995.000000\n",
              "WesternEurope        407498.428571\n",
              "NorthernEurope       113407.200000\n",
              "Oceania              112914.500000\n",
              "South-easternAsia     98324.636364\n",
              "EasternEurope         85243.900000\n",
              "SouthernEurope        76666.666667\n",
              "SouthernAsia          58199.333333\n",
              "CentralAmerica        57031.500000\n",
              "WesternAsia           46025.555556\n",
              "NorthernAfrica        35034.400000\n",
              "SouthAmerica          32885.666667\n",
              "SouthernAfrica        18005.600000\n",
              "CentralAsia           12063.400000\n",
              "WesternAfrica          4898.333333\n",
              "EasternAfrica          4726.176471\n",
              "MiddleAfrica           4381.222222\n",
              "Caribbean              3057.312500\n",
              "Melanesia              2896.400000\n",
              "Polynesia               432.000000\n",
              "Micronesia               99.000000\n",
              "Name: International trade: Imports (million US$), dtype: float64"
            ]
          },
          "metadata": {},
          "execution_count": 7
        }
      ]
    },
    {
      "cell_type": "markdown",
      "metadata": {
        "id": "tPl79f7enWPS"
      },
      "source": [
        "On evaluation of the data the region having highest International trade: Imports on region wise is **NORTHERNAMERICA**as shown above with **663552.25** millon US$ as average"
      ]
    },
    {
      "cell_type": "markdown",
      "metadata": {
        "id": "b0CFQsWNWnMb"
      },
      "source": [
        "**5.Find out which region has more consistent with respect to GDP percapita (current US$)**"
      ]
    },
    {
      "cell_type": "code",
      "metadata": {
        "id": "Am8OBVSlnS4m",
        "colab": {
          "base_uri": "https://localhost:8080/"
        },
        "outputId": "5011ef6c-1ee4-462c-f9f4-eab8eb239164"
      },
      "source": [
        "cgdata=data1.groupby(['Region']).std()\n",
        "cgdata['GDP per capita (current US$)'].sort_values(ascending=True)"
      ],
      "execution_count": 8,
      "outputs": [
        {
          "output_type": "execute_result",
          "data": {
            "text/plain": [
              "Region\n",
              "WesternAfrica          815.095399\n",
              "NorthernAfrica         974.706575\n",
              "SouthernAfrica        2177.551120\n",
              "SouthernAsia          2855.708179\n",
              "EasternAfrica         3716.131770\n",
              "CentralAsia           4152.215490\n",
              "CentralAmerica        4180.440883\n",
              "SouthAmerica          4273.707394\n",
              "Micronesia            4820.669694\n",
              "MiddleAfrica          5274.846281\n",
              "EasternEurope         5415.488739\n",
              "Polynesia             6956.250286\n",
              "Oceania               9233.329638\n",
              "SouthernEurope        9541.703216\n",
              "Melanesia            13855.842686\n",
              "Caribbean            14579.371326\n",
              "South-easternAsia    16311.810656\n",
              "WesternAsia          18812.151459\n",
              "NorthernEurope       20671.030185\n",
              "WesternEurope        24770.467728\n",
              "NorthernAmerica      25749.619445\n",
              "EasternAsia          27485.120923\n",
              "Name: GDP per capita (current US$), dtype: float64"
            ]
          },
          "metadata": {},
          "execution_count": 8
        }
      ]
    },
    {
      "cell_type": "markdown",
      "metadata": {
        "id": "saRGxQdbWhpy"
      },
      "source": [
        "REGION WITH LESS STANDATD DEVIATION SHOWS DATA IS NOT WIDELY SPREAD AND CLUSTERED TOWARDS THE MEAN.SO **WESTERN AFRICAN** REGION IS MORE CONSISTENT WITH RESPECT GDP PER CAPITA($)"
      ]
    },
    {
      "cell_type": "code",
      "metadata": {
        "id": "9bqfvjQ5WVxG"
      },
      "source": [
        ""
      ],
      "execution_count": null,
      "outputs": []
    }
  ]
}
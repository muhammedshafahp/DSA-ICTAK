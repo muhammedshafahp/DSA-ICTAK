{
  "nbformat": 4,
  "nbformat_minor": 0,
  "metadata": {
    "colab": {
      "name": "acyivity2.ipynb",
      "provenance": [],
      "collapsed_sections": []
    },
    "kernelspec": {
      "name": "python3",
      "display_name": "Python 3"
    },
    "language_info": {
      "name": "python"
    }
  },
  "cells": [
    {
      "cell_type": "code",
      "metadata": {
        "id": "cuZpCDRFl992"
      },
      "source": [
        "import numpy as np\n",
        "import pandas as pd\n",
        "import matplotlib.pyplot as plt\n",
        "import seaborn as sns\n",
        "import string "
      ],
      "execution_count": 1,
      "outputs": []
    },
    {
      "cell_type": "code",
      "metadata": {
        "id": "9-auPjAWmMqw"
      },
      "source": [
        "def check_animal(val):\n",
        "  for i in range(3):\n",
        "      ans=input()\n",
        "      if(val==ans.upper()):\n",
        "        print('correct answer')\n",
        "        return 1\n",
        "        break\n",
        "      else:\n",
        "        if(i==2):\n",
        "          print('the correct answer is ',val)\n",
        "          return 0\n",
        "          break\n",
        "        print('sorry wrong answer, try again')"
      ],
      "execution_count": 46,
      "outputs": []
    },
    {
      "cell_type": "code",
      "metadata": {
        "colab": {
          "base_uri": "https://localhost:8080/"
        },
        "id": "44d2_gmAmZO8",
        "outputId": "a5a0f6e7-684b-41a4-d2f6-af13d828332c"
      },
      "source": [
        "score=0\n",
        "print('Guess the Animal')\n",
        "print('National animal of INDIA?')\n",
        "score=score+check_animal('TIGER')\n",
        "print('which is the largest animal on earth?')\n",
        "score=score+check_animal('BLUE WHALE')\n",
        "print('animal with longest neck?')\n",
        "score=score+check_animal('GIRRAF')\n",
        "print('YOUR SCORE IS ',score)\n"
      ],
      "execution_count": 47,
      "outputs": [
        {
          "output_type": "stream",
          "name": "stdout",
          "text": [
            "Guess the Animal\n",
            "National animal of INDIA?\n",
            "tiger\n",
            "correct answer\n",
            "which is the largest animal on earth?\n",
            "blue whale\n",
            "correct answer\n",
            "animal with longest neck?\n",
            "ostrich\n",
            "sorry wrong answer, try again\n",
            "yemmu\n",
            "sorry wrong answer, try again\n",
            "fox\n",
            "the correct answer is  GIRRAF\n",
            "YOUR SCORE IS  2\n"
          ]
        }
      ]
    },
    {
      "cell_type": "code",
      "metadata": {
        "id": "LuDT1TaSIxPq"
      },
      "source": [
        ""
      ],
      "execution_count": null,
      "outputs": []
    },
    {
      "cell_type": "code",
      "metadata": {
        "id": "gbit9mhEmlKi"
      },
      "source": [
        ""
      ],
      "execution_count": null,
      "outputs": []
    }
  ]
}
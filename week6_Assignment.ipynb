{
  "nbformat": 4,
  "nbformat_minor": 0,
  "metadata": {
    "colab": {
      "name": "week6-Assignment.ipynb",
      "provenance": [],
      "collapsed_sections": []
    },
    "kernelspec": {
      "name": "python3",
      "display_name": "Python 3"
    },
    "language_info": {
      "name": "python"
    }
  },
  "cells": [
    {
      "cell_type": "code",
      "metadata": {
        "id": "iinZtXbaXrW2"
      },
      "source": [
        "import pandas as pd\n",
        "import numpy as np\n",
        "import matplotlib.pyplot as plt\n",
        "import seaborn as sns\n",
        "import statistics as sts"
      ],
      "execution_count": 1,
      "outputs": []
    },
    {
      "cell_type": "code",
      "metadata": {
        "id": "Hd_C0FgnXwcm"
      },
      "source": [
        "data1 = pd.read_excel('/content/drive/MyDrive/DSA WORKS/Week 6/StudentsPerformance_056e7b1df6aab888d4b13b23f45079ef.xlsx')"
      ],
      "execution_count": 4,
      "outputs": []
    },
    {
      "cell_type": "code",
      "metadata": {
        "colab": {
          "base_uri": "https://localhost:8080/",
          "height": 206
        },
        "id": "V0RtqdB-ZytQ",
        "outputId": "e3439f8b-0c84-4689-b9a3-84799d82d9fd"
      },
      "source": [
        "data1.head(5)"
      ],
      "execution_count": 5,
      "outputs": [
        {
          "output_type": "execute_result",
          "data": {
            "text/html": [
              "<div>\n",
              "<style scoped>\n",
              "    .dataframe tbody tr th:only-of-type {\n",
              "        vertical-align: middle;\n",
              "    }\n",
              "\n",
              "    .dataframe tbody tr th {\n",
              "        vertical-align: top;\n",
              "    }\n",
              "\n",
              "    .dataframe thead th {\n",
              "        text-align: right;\n",
              "    }\n",
              "</style>\n",
              "<table border=\"1\" class=\"dataframe\">\n",
              "  <thead>\n",
              "    <tr style=\"text-align: right;\">\n",
              "      <th></th>\n",
              "      <th>gender</th>\n",
              "      <th>race/ethnicity</th>\n",
              "      <th>parental level of education</th>\n",
              "      <th>lunch</th>\n",
              "      <th>test preparation course</th>\n",
              "      <th>math score</th>\n",
              "      <th>reading score</th>\n",
              "      <th>writing score</th>\n",
              "    </tr>\n",
              "  </thead>\n",
              "  <tbody>\n",
              "    <tr>\n",
              "      <th>0</th>\n",
              "      <td>female</td>\n",
              "      <td>group C</td>\n",
              "      <td>some high school</td>\n",
              "      <td>free/reduced</td>\n",
              "      <td>none</td>\n",
              "      <td>0</td>\n",
              "      <td>17</td>\n",
              "      <td>10</td>\n",
              "    </tr>\n",
              "    <tr>\n",
              "      <th>1</th>\n",
              "      <td>female</td>\n",
              "      <td>group B</td>\n",
              "      <td>high school</td>\n",
              "      <td>free/reduced</td>\n",
              "      <td>none</td>\n",
              "      <td>8</td>\n",
              "      <td>24</td>\n",
              "      <td>23</td>\n",
              "    </tr>\n",
              "    <tr>\n",
              "      <th>2</th>\n",
              "      <td>female</td>\n",
              "      <td>group B</td>\n",
              "      <td>some high school</td>\n",
              "      <td>free/reduced</td>\n",
              "      <td>none</td>\n",
              "      <td>18</td>\n",
              "      <td>32</td>\n",
              "      <td>28</td>\n",
              "    </tr>\n",
              "    <tr>\n",
              "      <th>3</th>\n",
              "      <td>female</td>\n",
              "      <td>group B</td>\n",
              "      <td>some college</td>\n",
              "      <td>standard</td>\n",
              "      <td>none</td>\n",
              "      <td>11</td>\n",
              "      <td>38</td>\n",
              "      <td>32</td>\n",
              "    </tr>\n",
              "    <tr>\n",
              "      <th>4</th>\n",
              "      <td>female</td>\n",
              "      <td>group C</td>\n",
              "      <td>some college</td>\n",
              "      <td>free/reduced</td>\n",
              "      <td>none</td>\n",
              "      <td>22</td>\n",
              "      <td>39</td>\n",
              "      <td>33</td>\n",
              "    </tr>\n",
              "  </tbody>\n",
              "</table>\n",
              "</div>"
            ],
            "text/plain": [
              "   gender race/ethnicity  ... reading score writing score\n",
              "0  female        group C  ...            17            10\n",
              "1  female        group B  ...            24            23\n",
              "2  female        group B  ...            32            28\n",
              "3  female        group B  ...            38            32\n",
              "4  female        group C  ...            39            33\n",
              "\n",
              "[5 rows x 8 columns]"
            ]
          },
          "metadata": {},
          "execution_count": 5
        }
      ]
    },
    {
      "cell_type": "markdown",
      "metadata": {
        "id": "fGnpbunzJNjN"
      },
      "source": [
        "**Q1.Find out how many males and females participated in the test**"
      ]
    },
    {
      "cell_type": "code",
      "metadata": {
        "colab": {
          "base_uri": "https://localhost:8080/"
        },
        "id": "HAhMo4JkJUUp",
        "outputId": "12014c66-7183-41c6-c169-c8ac660b5f0a"
      },
      "source": [
        "gendata=data1.groupby(['gender'])['gender'].count()\n",
        "gendata"
      ],
      "execution_count": 6,
      "outputs": [
        {
          "output_type": "execute_result",
          "data": {
            "text/plain": [
              "gender\n",
              "female    518\n",
              "male      482\n",
              "Name: gender, dtype: int64"
            ]
          },
          "metadata": {},
          "execution_count": 6
        }
      ]
    },
    {
      "cell_type": "markdown",
      "metadata": {
        "id": "HJVmi_PzJ6IV"
      },
      "source": [
        "By analizing we can say that ther are **518 Female** and **482 male** students paticipated in the test."
      ]
    },
    {
      "cell_type": "markdown",
      "metadata": {
        "id": "JizPS5RkKNeM"
      },
      "source": [
        "**Q2.What do you think about the students' parental level of education?**"
      ]
    },
    {
      "cell_type": "code",
      "metadata": {
        "colab": {
          "base_uri": "https://localhost:8080/",
          "height": 484
        },
        "id": "c2IdQ2c7KM9r",
        "outputId": "7bb6b437-7213-42c8-c68a-98ee467737b4"
      },
      "source": [
        "plt.figure(figsize=(12,6))\n",
        "plt.hist(data1['parental level of education'], rwidth=0.5)\n",
        "plt.xlabel('Parents education')\n",
        "plt.ylabel('Count of each Category')\n",
        "plt.title('Histogram of Parents Education')\n",
        "plt.xticks(rotation=45)"
      ],
      "execution_count": 7,
      "outputs": [
        {
          "output_type": "execute_result",
          "data": {
            "text/plain": [
              "([0, 1, 2, 3, 4, 5], <a list of 6 Text major ticklabel objects>)"
            ]
          },
          "metadata": {},
          "execution_count": 7
        },
        {
          "output_type": "display_data",
          "data": {
            "image/png": "[encoded data removed]",
            "text/plain": [
              "<Figure size 864x432 with 1 Axes>"
            ]
          },
          "metadata": {
            "needs_background": "light"
          }
        }
      ]
    },
    {
      "cell_type": "markdown",
      "metadata": {
        "id": "hpZMGN4FNNfD"
      },
      "source": [
        "In the above graph we can say the most of the parents are having a education of ***Some College level*** where only very less parents are having ***Master degree***. The second most parents are having ***Associate's degree*** similarly there are many parets with ***Some High school level***. "
      ]
    },
    {
      "cell_type": "markdown",
      "metadata": {
        "id": "zgXeQ581v15m"
      },
      "source": [
        "**Q3.a.Who scores the most on average for math, reading and writing based on Gender**"
      ]
    },
    {
      "cell_type": "code",
      "metadata": {
        "colab": {
          "base_uri": "https://localhost:8080/",
          "height": 144
        },
        "id": "uk969Zozv-it",
        "outputId": "0eae45cf-725c-41b7-9c17-57357b87d4e0"
      },
      "source": [
        "grpdata=data1.groupby(['gender'])[['gender','math score','reading score','writing score']].mean()\n",
        "grpdata['Average of all three scores']=(grpdata['math score']+grpdata['reading score']+grpdata['writing score'])/3\n",
        "grpdata"
      ],
      "execution_count": 9,
      "outputs": [
        {
          "output_type": "execute_result",
          "data": {
            "text/html": [
              "<div>\n",
              "<style scoped>\n",
              "    .dataframe tbody tr th:only-of-type {\n",
              "        vertical-align: middle;\n",
              "    }\n",
              "\n",
              "    .dataframe tbody tr th {\n",
              "        vertical-align: top;\n",
              "    }\n",
              "\n",
              "    .dataframe thead th {\n",
              "        text-align: right;\n",
              "    }\n",
              "</style>\n",
              "<table border=\"1\" class=\"dataframe\">\n",
              "  <thead>\n",
              "    <tr style=\"text-align: right;\">\n",
              "      <th></th>\n",
              "      <th>math score</th>\n",
              "      <th>reading score</th>\n",
              "      <th>writing score</th>\n",
              "      <th>Average of all three scores</th>\n",
              "    </tr>\n",
              "    <tr>\n",
              "      <th>gender</th>\n",
              "      <th></th>\n",
              "      <th></th>\n",
              "      <th></th>\n",
              "      <th></th>\n",
              "    </tr>\n",
              "  </thead>\n",
              "  <tbody>\n",
              "    <tr>\n",
              "      <th>female</th>\n",
              "      <td>63.376448</td>\n",
              "      <td>72.590734</td>\n",
              "      <td>72.467181</td>\n",
              "      <td>69.478121</td>\n",
              "    </tr>\n",
              "    <tr>\n",
              "      <th>male</th>\n",
              "      <td>68.821577</td>\n",
              "      <td>65.545643</td>\n",
              "      <td>63.446058</td>\n",
              "      <td>65.937759</td>\n",
              "    </tr>\n",
              "  </tbody>\n",
              "</table>\n",
              "</div>"
            ],
            "text/plain": [
              "        math score  reading score  writing score  Average of all three scores\n",
              "gender                                                                       \n",
              "female   63.376448      72.590734      72.467181                    69.478121\n",
              "male     68.821577      65.545643      63.446058                    65.937759"
            ]
          },
          "metadata": {},
          "execution_count": 9
        }
      ]
    },
    {
      "cell_type": "markdown",
      "metadata": {
        "id": "IMUgo3HK31C5"
      },
      "source": [
        "On the Average of three scores **Female** have the highest score as shown above. But intivitually male only lead in **maths** rest two subject **female** are having higher score"
      ]
    },
    {
      "cell_type": "markdown",
      "metadata": {
        "id": "I9i2SjW94fE6"
      },
      "source": [
        "**Q3.b.Who scores the most on average for math, reading and writing based on Test perapration course**"
      ]
    },
    {
      "cell_type": "code",
      "metadata": {
        "colab": {
          "base_uri": "https://localhost:8080/",
          "height": 144
        },
        "id": "9jm4jJ5n5jps",
        "outputId": "5531d8c9-7245-4854-95ec-acbcd84b5574"
      },
      "source": [
        "grpdata=data1.groupby(['test preparation course'])[['test preparation course','math score','reading score','writing score']].mean()\n",
        "grpdata['Average of all three scores']=(grpdata['math score']+grpdata['reading score']+grpdata['writing score'])/3\n",
        "grpdata"
      ],
      "execution_count": null,
      "outputs": [
        {
          "output_type": "execute_result",
          "data": {
            "text/html": [
              "<div>\n",
              "<style scoped>\n",
              "    .dataframe tbody tr th:only-of-type {\n",
              "        vertical-align: middle;\n",
              "    }\n",
              "\n",
              "    .dataframe tbody tr th {\n",
              "        vertical-align: top;\n",
              "    }\n",
              "\n",
              "    .dataframe thead th {\n",
              "        text-align: right;\n",
              "    }\n",
              "</style>\n",
              "<table border=\"1\" class=\"dataframe\">\n",
              "  <thead>\n",
              "    <tr style=\"text-align: right;\">\n",
              "      <th></th>\n",
              "      <th>math score</th>\n",
              "      <th>reading score</th>\n",
              "      <th>writing score</th>\n",
              "      <th>Average of all three scores</th>\n",
              "    </tr>\n",
              "    <tr>\n",
              "      <th>test preparation course</th>\n",
              "      <th></th>\n",
              "      <th></th>\n",
              "      <th></th>\n",
              "      <th></th>\n",
              "    </tr>\n",
              "  </thead>\n",
              "  <tbody>\n",
              "    <tr>\n",
              "      <th>completed</th>\n",
              "      <td>69.96648</td>\n",
              "      <td>74.175978</td>\n",
              "      <td>74.684358</td>\n",
              "      <td>72.942272</td>\n",
              "    </tr>\n",
              "    <tr>\n",
              "      <th>none</th>\n",
              "      <td>63.78972</td>\n",
              "      <td>66.417445</td>\n",
              "      <td>64.457944</td>\n",
              "      <td>64.888370</td>\n",
              "    </tr>\n",
              "  </tbody>\n",
              "</table>\n",
              "</div>"
            ],
            "text/plain": [
              "                         math score  ...  Average of all three scores\n",
              "test preparation course              ...                             \n",
              "completed                  69.96648  ...                    72.942272\n",
              "none                       63.78972  ...                    64.888370\n",
              "\n",
              "[2 rows x 4 columns]"
            ]
          },
          "metadata": {},
          "execution_count": 8
        }
      ]
    },
    {
      "cell_type": "markdown",
      "metadata": {
        "id": "WIwPO2dy5gtT"
      },
      "source": [
        "By analysing the above data we can say that students who have **completed** the Test preparation course have scored **more mark** than the studentwho didn't take the course "
      ]
    },
    {
      "cell_type": "markdown",
      "metadata": {
        "id": "PO0GBIWm8p5u"
      },
      "source": [
        "**Q4a. What do you think about scoring variation for math, reading and writing based on Gender.**"
      ]
    },
    {
      "cell_type": "code",
      "metadata": {
        "colab": {
          "base_uri": "https://localhost:8080/",
          "height": 144
        },
        "id": "1f6fAn1Y9py3",
        "outputId": "f5374ca7-20c3-4d65-f1b0-479d9b9e7f73"
      },
      "source": [
        "grpdata=data1.groupby(['gender'])[['gender','math score','reading score','writing score']].std()\n",
        "grpdata\n"
      ],
      "execution_count": 11,
      "outputs": [
        {
          "output_type": "execute_result",
          "data": {
            "text/html": [
              "<div>\n",
              "<style scoped>\n",
              "    .dataframe tbody tr th:only-of-type {\n",
              "        vertical-align: middle;\n",
              "    }\n",
              "\n",
              "    .dataframe tbody tr th {\n",
              "        vertical-align: top;\n",
              "    }\n",
              "\n",
              "    .dataframe thead th {\n",
              "        text-align: right;\n",
              "    }\n",
              "</style>\n",
              "<table border=\"1\" class=\"dataframe\">\n",
              "  <thead>\n",
              "    <tr style=\"text-align: right;\">\n",
              "      <th></th>\n",
              "      <th>math score</th>\n",
              "      <th>reading score</th>\n",
              "      <th>writing score</th>\n",
              "    </tr>\n",
              "    <tr>\n",
              "      <th>gender</th>\n",
              "      <th></th>\n",
              "      <th></th>\n",
              "      <th></th>\n",
              "    </tr>\n",
              "  </thead>\n",
              "  <tbody>\n",
              "    <tr>\n",
              "      <th>female</th>\n",
              "      <td>16.029928</td>\n",
              "      <td>14.411018</td>\n",
              "      <td>14.844842</td>\n",
              "    </tr>\n",
              "    <tr>\n",
              "      <th>male</th>\n",
              "      <td>14.556411</td>\n",
              "      <td>14.149594</td>\n",
              "      <td>14.227225</td>\n",
              "    </tr>\n",
              "  </tbody>\n",
              "</table>\n",
              "</div>"
            ],
            "text/plain": [
              "        math score  reading score  writing score\n",
              "gender                                          \n",
              "female   16.029928      14.411018      14.844842\n",
              "male     14.556411      14.149594      14.227225"
            ]
          },
          "metadata": {},
          "execution_count": 11
        }
      ]
    },
    {
      "cell_type": "markdown",
      "metadata": {
        "id": "SzPZeijHz-bR"
      },
      "source": [
        "The standard diviation shows that the data are not much speard as all the section are in similar range but a littel higher on female side\n"
      ]
    },
    {
      "cell_type": "markdown",
      "metadata": {
        "id": "knzXpaMAr8bV"
      },
      "source": [
        "**Q4b. What do you think about scoring variation for math, reading and writing based on Test preparation course.**"
      ]
    },
    {
      "cell_type": "code",
      "metadata": {
        "colab": {
          "base_uri": "https://localhost:8080/",
          "height": 144
        },
        "id": "lkhyhUFQsEL9",
        "outputId": "636b7318-cb56-4abb-9d58-3f903db6bd69"
      },
      "source": [
        "grpdata=data1.groupby(['test preparation course'])[['test preparation course','math score','reading score','writing score']].std()\n",
        "grpdata"
      ],
      "execution_count": 12,
      "outputs": [
        {
          "output_type": "execute_result",
          "data": {
            "text/html": [
              "<div>\n",
              "<style scoped>\n",
              "    .dataframe tbody tr th:only-of-type {\n",
              "        vertical-align: middle;\n",
              "    }\n",
              "\n",
              "    .dataframe tbody tr th {\n",
              "        vertical-align: top;\n",
              "    }\n",
              "\n",
              "    .dataframe thead th {\n",
              "        text-align: right;\n",
              "    }\n",
              "</style>\n",
              "<table border=\"1\" class=\"dataframe\">\n",
              "  <thead>\n",
              "    <tr style=\"text-align: right;\">\n",
              "      <th></th>\n",
              "      <th>math score</th>\n",
              "      <th>reading score</th>\n",
              "      <th>writing score</th>\n",
              "    </tr>\n",
              "    <tr>\n",
              "      <th>test preparation course</th>\n",
              "      <th></th>\n",
              "      <th></th>\n",
              "      <th></th>\n",
              "    </tr>\n",
              "  </thead>\n",
              "  <tbody>\n",
              "    <tr>\n",
              "      <th>completed</th>\n",
              "      <td>14.521847</td>\n",
              "      <td>13.537572</td>\n",
              "      <td>13.236412</td>\n",
              "    </tr>\n",
              "    <tr>\n",
              "      <th>none</th>\n",
              "      <td>15.705689</td>\n",
              "      <td>14.608896</td>\n",
              "      <td>15.041667</td>\n",
              "    </tr>\n",
              "  </tbody>\n",
              "</table>\n",
              "</div>"
            ],
            "text/plain": [
              "                         math score  reading score  writing score\n",
              "test preparation course                                          \n",
              "completed                 14.521847      13.537572      13.236412\n",
              "none                      15.705689      14.608896      15.041667"
            ]
          },
          "metadata": {},
          "execution_count": 12
        }
      ]
    },
    {
      "cell_type": "markdown",
      "metadata": {
        "id": "88s4NM8K0UTF"
      },
      "source": [
        "In this case also the std is around 15 and all the score are having similar spread"
      ]
    },
    {
      "cell_type": "markdown",
      "metadata": {
        "id": "VyAVKuaoy23A"
      },
      "source": [
        "**Q5.The management needs your help to give bonus to top 25% students based on their maths score,so how will you help the management to achieve this.**"
      ]
    },
    {
      "cell_type": "code",
      "metadata": {
        "colab": {
          "base_uri": "https://localhost:8080/"
        },
        "id": "VgUqKq_eCiGL",
        "outputId": "1eea854d-6d89-4c2d-e5f4-af77d31155c4"
      },
      "source": [
        "listdata=pd.DataFrame(data1)\n",
        "mathdata=listdata.sort_values(by=['math score'],ascending=True)\n",
        "Q=np.percentile(mathdata['math score'],75,interpolation='midpoint')\n",
        "print(mathdata[mathdata['math score']>=Q])"
      ],
      "execution_count": 13,
      "outputs": [
        {
          "output_type": "stream",
          "name": "stdout",
          "text": [
            "     gender race/ethnicity  ... reading score writing score\n",
            "414  female        group A  ...            88            85\n",
            "426  female        group D  ...            68            77\n",
            "849    male        group A  ...            67            68\n",
            "850    male        group C  ...            67            64\n",
            "851    male        group D  ...            62            62\n",
            "..      ...            ...  ...           ...           ...\n",
            "516  female        group E  ...           100           100\n",
            "998    male        group E  ...           100            93\n",
            "515  female        group E  ...            92            97\n",
            "517  female        group E  ...           100           100\n",
            "999    male        group E  ...           100           100\n",
            "\n",
            "[255 rows x 8 columns]\n"
          ]
        }
      ]
    },
    {
      "cell_type": "markdown",
      "metadata": {
        "id": "eCwpUHkR0uuJ"
      },
      "source": [
        "There are almost **255 students**who are eligible for bonus as per the rule"
      ]
    },
    {
      "cell_type": "code",
      "metadata": {
        "id": "9bqfvjQ5WVxG"
      },
      "source": [
        ""
      ],
      "execution_count": null,
      "outputs": []
    }
  ]
}
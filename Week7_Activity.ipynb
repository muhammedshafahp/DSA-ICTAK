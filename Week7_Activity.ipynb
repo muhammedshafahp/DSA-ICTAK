{
  "nbformat": 4,
  "nbformat_minor": 0,
  "metadata": {
    "colab": {
      "name": "Week7_Activity.ipynb",
      "provenance": []
    },
    "kernelspec": {
      "name": "python3",
      "display_name": "Python 3"
    },
    "language_info": {
      "name": "python"
    }
  },
  "cells": [
    {
      "cell_type": "code",
      "metadata": {
        "id": "ZtzzlBqYav4p"
      },
      "source": [
        "import numpy as np\n",
        "import pandas as pd\n",
        "import matplotlib.pyplot as plt\n",
        "import seaborn as sns"
      ],
      "execution_count": 1,
      "outputs": []
    },
    {
      "cell_type": "code",
      "metadata": {
        "id": "MLUKPQLZb7yc"
      },
      "source": [
        "data=pd.read_csv('/content/drive/MyDrive/DSA WORKS/wee7/Advertising.csv')"
      ],
      "execution_count": 28,
      "outputs": []
    },
    {
      "cell_type": "markdown",
      "metadata": {
        "id": "NYA0xnFfujCT"
      },
      "source": [
        "**1. Explain the dataset**\n"
      ]
    },
    {
      "cell_type": "code",
      "metadata": {
        "colab": {
          "base_uri": "https://localhost:8080/"
        },
        "id": "4_TuV29ocGau",
        "outputId": "6eec0a76-f22d-400f-fd53-a63e42f8e6ef"
      },
      "source": [
        "data.info()"
      ],
      "execution_count": 3,
      "outputs": [
        {
          "output_type": "stream",
          "name": "stdout",
          "text": [
            "<class 'pandas.core.frame.DataFrame'>\n",
            "RangeIndex: 200 entries, 0 to 199\n",
            "Data columns (total 5 columns):\n",
            " #   Column      Non-Null Count  Dtype  \n",
            "---  ------      --------------  -----  \n",
            " 0   Unnamed: 0  200 non-null    int64  \n",
            " 1   TV          200 non-null    float64\n",
            " 2   Radio       200 non-null    float64\n",
            " 3   Newspaper   200 non-null    float64\n",
            " 4   Sales       200 non-null    float64\n",
            "dtypes: float64(4), int64(1)\n",
            "memory usage: 7.9 KB\n"
          ]
        }
      ]
    },
    {
      "cell_type": "code",
      "metadata": {
        "colab": {
          "base_uri": "https://localhost:8080/",
          "height": 206
        },
        "id": "8W_iuX6RcJfB",
        "outputId": "d387ee35-1527-4ec7-adee-90540b0524fc"
      },
      "source": [
        "data.head(5)"
      ],
      "execution_count": 4,
      "outputs": [
        {
          "output_type": "execute_result",
          "data": {
            "text/html": [
              "<div>\n",
              "<style scoped>\n",
              "    .dataframe tbody tr th:only-of-type {\n",
              "        vertical-align: middle;\n",
              "    }\n",
              "\n",
              "    .dataframe tbody tr th {\n",
              "        vertical-align: top;\n",
              "    }\n",
              "\n",
              "    .dataframe thead th {\n",
              "        text-align: right;\n",
              "    }\n",
              "</style>\n",
              "<table border=\"1\" class=\"dataframe\">\n",
              "  <thead>\n",
              "    <tr style=\"text-align: right;\">\n",
              "      <th></th>\n",
              "      <th>Unnamed: 0</th>\n",
              "      <th>TV</th>\n",
              "      <th>Radio</th>\n",
              "      <th>Newspaper</th>\n",
              "      <th>Sales</th>\n",
              "    </tr>\n",
              "  </thead>\n",
              "  <tbody>\n",
              "    <tr>\n",
              "      <th>0</th>\n",
              "      <td>1</td>\n",
              "      <td>230.1</td>\n",
              "      <td>37.8</td>\n",
              "      <td>69.2</td>\n",
              "      <td>22.1</td>\n",
              "    </tr>\n",
              "    <tr>\n",
              "      <th>1</th>\n",
              "      <td>2</td>\n",
              "      <td>44.5</td>\n",
              "      <td>39.3</td>\n",
              "      <td>45.1</td>\n",
              "      <td>10.4</td>\n",
              "    </tr>\n",
              "    <tr>\n",
              "      <th>2</th>\n",
              "      <td>3</td>\n",
              "      <td>17.2</td>\n",
              "      <td>45.9</td>\n",
              "      <td>69.3</td>\n",
              "      <td>9.3</td>\n",
              "    </tr>\n",
              "    <tr>\n",
              "      <th>3</th>\n",
              "      <td>4</td>\n",
              "      <td>151.5</td>\n",
              "      <td>41.3</td>\n",
              "      <td>58.5</td>\n",
              "      <td>18.5</td>\n",
              "    </tr>\n",
              "    <tr>\n",
              "      <th>4</th>\n",
              "      <td>5</td>\n",
              "      <td>180.8</td>\n",
              "      <td>10.8</td>\n",
              "      <td>58.4</td>\n",
              "      <td>12.9</td>\n",
              "    </tr>\n",
              "  </tbody>\n",
              "</table>\n",
              "</div>"
            ],
            "text/plain": [
              "   Unnamed: 0     TV  Radio  Newspaper  Sales\n",
              "0           1  230.1   37.8       69.2   22.1\n",
              "1           2   44.5   39.3       45.1   10.4\n",
              "2           3   17.2   45.9       69.3    9.3\n",
              "3           4  151.5   41.3       58.5   18.5\n",
              "4           5  180.8   10.8       58.4   12.9"
            ]
          },
          "metadata": {},
          "execution_count": 4
        }
      ]
    },
    {
      "cell_type": "markdown",
      "metadata": {
        "id": "diw-VmSavNX1"
      },
      "source": [
        "The data is having 200 rows and no null values in the data. the sample data is shown above."
      ]
    },
    {
      "cell_type": "markdown",
      "metadata": {
        "id": "qa0RTRPm1CmM"
      },
      "source": [
        "**2.Check the summary statistics and discuss the max, min, avg, median,\n",
        "and percentiles.**"
      ]
    },
    {
      "cell_type": "code",
      "metadata": {
        "colab": {
          "base_uri": "https://localhost:8080/",
          "height": 300
        },
        "id": "YkujoCEDcM0P",
        "outputId": "8058c4b8-ff86-4627-f836-499764ed4f00"
      },
      "source": [
        "data.describe()"
      ],
      "execution_count": 5,
      "outputs": [
        {
          "output_type": "execute_result",
          "data": {
            "text/html": [
              "<div>\n",
              "<style scoped>\n",
              "    .dataframe tbody tr th:only-of-type {\n",
              "        vertical-align: middle;\n",
              "    }\n",
              "\n",
              "    .dataframe tbody tr th {\n",
              "        vertical-align: top;\n",
              "    }\n",
              "\n",
              "    .dataframe thead th {\n",
              "        text-align: right;\n",
              "    }\n",
              "</style>\n",
              "<table border=\"1\" class=\"dataframe\">\n",
              "  <thead>\n",
              "    <tr style=\"text-align: right;\">\n",
              "      <th></th>\n",
              "      <th>Unnamed: 0</th>\n",
              "      <th>TV</th>\n",
              "      <th>Radio</th>\n",
              "      <th>Newspaper</th>\n",
              "      <th>Sales</th>\n",
              "    </tr>\n",
              "  </thead>\n",
              "  <tbody>\n",
              "    <tr>\n",
              "      <th>count</th>\n",
              "      <td>200.000000</td>\n",
              "      <td>200.000000</td>\n",
              "      <td>200.000000</td>\n",
              "      <td>200.000000</td>\n",
              "      <td>200.000000</td>\n",
              "    </tr>\n",
              "    <tr>\n",
              "      <th>mean</th>\n",
              "      <td>100.500000</td>\n",
              "      <td>147.042500</td>\n",
              "      <td>23.264000</td>\n",
              "      <td>30.554000</td>\n",
              "      <td>14.022500</td>\n",
              "    </tr>\n",
              "    <tr>\n",
              "      <th>std</th>\n",
              "      <td>57.879185</td>\n",
              "      <td>85.854236</td>\n",
              "      <td>14.846809</td>\n",
              "      <td>21.778621</td>\n",
              "      <td>5.217457</td>\n",
              "    </tr>\n",
              "    <tr>\n",
              "      <th>min</th>\n",
              "      <td>1.000000</td>\n",
              "      <td>0.700000</td>\n",
              "      <td>0.000000</td>\n",
              "      <td>0.300000</td>\n",
              "      <td>1.600000</td>\n",
              "    </tr>\n",
              "    <tr>\n",
              "      <th>25%</th>\n",
              "      <td>50.750000</td>\n",
              "      <td>74.375000</td>\n",
              "      <td>9.975000</td>\n",
              "      <td>12.750000</td>\n",
              "      <td>10.375000</td>\n",
              "    </tr>\n",
              "    <tr>\n",
              "      <th>50%</th>\n",
              "      <td>100.500000</td>\n",
              "      <td>149.750000</td>\n",
              "      <td>22.900000</td>\n",
              "      <td>25.750000</td>\n",
              "      <td>12.900000</td>\n",
              "    </tr>\n",
              "    <tr>\n",
              "      <th>75%</th>\n",
              "      <td>150.250000</td>\n",
              "      <td>218.825000</td>\n",
              "      <td>36.525000</td>\n",
              "      <td>45.100000</td>\n",
              "      <td>17.400000</td>\n",
              "    </tr>\n",
              "    <tr>\n",
              "      <th>max</th>\n",
              "      <td>200.000000</td>\n",
              "      <td>296.400000</td>\n",
              "      <td>49.600000</td>\n",
              "      <td>114.000000</td>\n",
              "      <td>27.000000</td>\n",
              "    </tr>\n",
              "  </tbody>\n",
              "</table>\n",
              "</div>"
            ],
            "text/plain": [
              "       Unnamed: 0          TV       Radio   Newspaper       Sales\n",
              "count  200.000000  200.000000  200.000000  200.000000  200.000000\n",
              "mean   100.500000  147.042500   23.264000   30.554000   14.022500\n",
              "std     57.879185   85.854236   14.846809   21.778621    5.217457\n",
              "min      1.000000    0.700000    0.000000    0.300000    1.600000\n",
              "25%     50.750000   74.375000    9.975000   12.750000   10.375000\n",
              "50%    100.500000  149.750000   22.900000   25.750000   12.900000\n",
              "75%    150.250000  218.825000   36.525000   45.100000   17.400000\n",
              "max    200.000000  296.400000   49.600000  114.000000   27.000000"
            ]
          },
          "metadata": {},
          "execution_count": 5
        }
      ]
    },
    {
      "cell_type": "code",
      "metadata": {
        "colab": {
          "base_uri": "https://localhost:8080/"
        },
        "id": "hFGqZUMwcsGL",
        "outputId": "e7bbcdb0-ac14-4f15-922b-62f513b337ee"
      },
      "source": [
        "data.median()"
      ],
      "execution_count": 6,
      "outputs": [
        {
          "output_type": "execute_result",
          "data": {
            "text/plain": [
              "Unnamed: 0    100.50\n",
              "TV            149.75\n",
              "Radio          22.90\n",
              "Newspaper      25.75\n",
              "Sales          12.90\n",
              "dtype: float64"
            ]
          },
          "metadata": {},
          "execution_count": 6
        }
      ]
    },
    {
      "cell_type": "code",
      "metadata": {
        "colab": {
          "base_uri": "https://localhost:8080/"
        },
        "id": "019PsIngdEwa",
        "outputId": "bf7a95b4-71ff-420b-9ed3-6acb78cd9f00"
      },
      "source": [
        "data.quantile()"
      ],
      "execution_count": 7,
      "outputs": [
        {
          "output_type": "execute_result",
          "data": {
            "text/plain": [
              "Unnamed: 0    100.50\n",
              "TV            149.75\n",
              "Radio          22.90\n",
              "Newspaper      25.75\n",
              "Sales          12.90\n",
              "Name: 0.5, dtype: float64"
            ]
          },
          "metadata": {},
          "execution_count": 7
        }
      ]
    },
    {
      "cell_type": "markdown",
      "metadata": {
        "id": "nz8QBIxithjJ"
      },
      "source": [
        "In the above three table we can see the mininmum, maximum, Average, median and percetile of the data."
      ]
    },
    {
      "cell_type": "markdown",
      "metadata": {
        "id": "5rGV5OJBv6E5"
      },
      "source": [
        "**3. Draw a scatter plot between TV and sales and write your insights**\n"
      ]
    },
    {
      "cell_type": "code",
      "metadata": {
        "colab": {
          "base_uri": "https://localhost:8080/",
          "height": 530
        },
        "id": "xDFXLnzldkja",
        "outputId": "6ff421a3-3be4-4cf2-823d-ce6674caaf0e"
      },
      "source": [
        "\n",
        "plt.figure(figsize=(10,8))\n",
        "plt.scatter(data['TV'],data['Sales'],s=12,color='green')\n",
        "plt.title('TV vs Sales')\n",
        "plt.xlabel('TV ads')\n",
        "plt.ylabel('sales')"
      ],
      "execution_count": 12,
      "outputs": [
        {
          "output_type": "execute_result",
          "data": {
            "text/plain": [
              "Text(0, 0.5, 'sales')"
            ]
          },
          "metadata": {},
          "execution_count": 12
        },
        {
          "output_type": "display_data",
          "data": {
            "image/png": "[encoded data removed]",
            "text/plain": [
              "<Figure size 720x576 with 1 Axes>"
            ]
          },
          "metadata": {
            "needs_background": "light"
          }
        }
      ]
    },
    {
      "cell_type": "code",
      "metadata": {
        "colab": {
          "base_uri": "https://localhost:8080/",
          "height": 504
        },
        "id": "4FmZ2GJiyvsD",
        "outputId": "03ae6e24-53ed-48fe-c3e3-032ae8968ae5"
      },
      "source": [
        "corrdata=data.corr()\n",
        "plt.figure(figsize=(16,8))\n",
        "sns.heatmap(corrdata,vmin=-.2,vmax=0.8,annot=True,linewidths=0.2)"
      ],
      "execution_count": 14,
      "outputs": [
        {
          "output_type": "execute_result",
          "data": {
            "text/plain": [
              "<matplotlib.axes._subplots.AxesSubplot at 0x7f72451c5e10>"
            ]
          },
          "metadata": {},
          "execution_count": 14
        },
        {
          "output_type": "display_data",
          "data": {
            "image/png": "[encoded data removed]",
            "text/plain": [
              "<Figure size 1152x576 with 2 Axes>"
            ]
          },
          "metadata": {
            "needs_background": "light"
          }
        }
      ]
    },
    {
      "cell_type": "markdown",
      "metadata": {
        "id": "099xT9s9wqJx"
      },
      "source": [
        "From the above scatter plot we can say in general that the sales is getting increased preportional to tv ads.the data is getting spread on increasing the tv ads "
      ]
    },
    {
      "cell_type": "markdown",
      "metadata": {
        "id": "LJ77q9cSzsR3"
      },
      "source": [
        "**4. Do a correlation analysis on the data set**"
      ]
    },
    {
      "cell_type": "code",
      "metadata": {
        "colab": {
          "base_uri": "https://localhost:8080/",
          "height": 500
        },
        "id": "0ivPK7E-eHW7",
        "outputId": "0bd09f44-77b5-4728-a202-159cc0877d0d"
      },
      "source": [
        "corrdata=data.corr()\n",
        "plt.figure(figsize=(16,8))\n",
        "sns.heatmap(corrdata,vmin=-.1,vmax=0.9,annot=True,linewidths=0.2)\n"
      ],
      "execution_count": 16,
      "outputs": [
        {
          "output_type": "execute_result",
          "data": {
            "text/plain": [
              "<matplotlib.axes._subplots.AxesSubplot at 0x7f723c43f310>"
            ]
          },
          "metadata": {},
          "execution_count": 16
        },
        {
          "output_type": "display_data",
          "data": {
            "image/png": "[encoded data removed]",
            "text/plain": [
              "<Figure size 1152x576 with 2 Axes>"
            ]
          },
          "metadata": {
            "needs_background": "light"
          }
        }
      ]
    },
    {
      "cell_type": "markdown",
      "metadata": {
        "id": "r5WlMsIAetoy"
      },
      "source": [
        "**5. Fit a linear regression model on the dataset**"
      ]
    },
    {
      "cell_type": "code",
      "metadata": {
        "id": "w8SdGkzV08qz"
      },
      "source": [
        "\n",
        "data.drop(data.columns[data.columns.str.contains('unnamed',case = False)],axis = 1, inplace = True)\n",
        "y=data['Sales']\n",
        "x=data.drop(['Sales'],axis=1)\n",
        "from sklearn.model_selection import train_test_split\n",
        "x_train,x_test,y_train,y_test=train_test_split(x,y,random_state=30,test_size=0.5)\n"
      ],
      "execution_count": 32,
      "outputs": []
    },
    {
      "cell_type": "code",
      "metadata": {
        "colab": {
          "base_uri": "https://localhost:8080/"
        },
        "id": "y6ubWT_T5AmP",
        "outputId": "91a7c852-e147-4469-ac94-be83711b2015"
      },
      "source": [
        "from sklearn import linear_model\n",
        "lr=linear_model.LinearRegression()\n",
        "model=lr.fit(x_train,y_train)\n",
        "prediction = model.predict(x_test)\n",
        "print(y_test)"
      ],
      "execution_count": 52,
      "outputs": [
        {
          "output_type": "stream",
          "name": "stdout",
          "text": [
            "143    10.4\n",
            "81     12.3\n",
            "26     15.0\n",
            "150    16.1\n",
            "124    19.7\n",
            "       ... \n",
            "47     23.2\n",
            "83     13.6\n",
            "112    14.1\n",
            "30     21.4\n",
            "74     17.0\n",
            "Name: Sales, Length: 100, dtype: float64\n"
          ]
        }
      ]
    },
    {
      "cell_type": "code",
      "metadata": {
        "colab": {
          "base_uri": "https://localhost:8080/"
        },
        "id": "QMMjByeA5s7d",
        "outputId": "01bf153f-ff6b-4f53-ef5b-560a1d4590f7"
      },
      "source": [
        "print(prediction)"
      ],
      "execution_count": 35,
      "outputs": [
        {
          "output_type": "stream",
          "name": "stdout",
          "text": [
            "[ 8.96517224 14.62435037 14.89804846 18.24386929 19.64814556  8.28788726\n",
            " 10.984865   19.19185277  8.21356227 14.50443083 10.52632807 15.25980604\n",
            " 14.62056851 11.97366133  6.42309297 18.39341231 20.92328745 13.16097386\n",
            " 21.35727483 24.17504462 11.65831836 10.7505295  19.262106   12.66635203\n",
            " 17.07395262 14.94527399  6.311146   23.49916278 13.97801264 14.65949756\n",
            " 19.3890303  12.75132695 22.99437939 15.44566885 20.09003029 15.41852096\n",
            " 12.63730787  9.98266908 18.2524461   8.26972161  9.28108075  5.95028979\n",
            "  9.96379072 16.19638392 16.33515633 23.17004696 20.66546342  7.79756388\n",
            " 20.60780465 11.07770939 15.90162903 17.79502513 23.16654488 12.50522585\n",
            " 17.89371881 19.2571796  12.81663305 21.90200395 18.17460704 17.30704297\n",
            " 13.03660928  3.86770871 10.50986282 10.48338459 21.1547391  12.46367816\n",
            "  6.69200994 13.77510553 18.66008639 10.17078152 12.51799739 18.70586659\n",
            "  4.80967483 10.03543938 14.23053467  8.89750849 18.46634915  7.83163282\n",
            " 12.33933709 20.68018199 17.32260385  9.06394869 12.17455777 10.37968591\n",
            " 19.35071795 11.5260733  17.77322877 16.68249886 15.32727213 14.89447406\n",
            " 17.12630854 18.26749448 16.93968678 13.26878312 11.00477929 21.46525868\n",
            " 14.59441692 13.69141116 21.49567853 17.12539842]\n"
          ]
        }
      ]
    },
    {
      "cell_type": "code",
      "metadata": {
        "colab": {
          "base_uri": "https://localhost:8080/"
        },
        "id": "z-l66qiA17wo",
        "outputId": "53d2f7f7-32bc-4c61-ff48-c8ed04018a8c"
      },
      "source": [
        "from sklearn.metrics import mean_squared_error\n",
        "print('MSE is',mean_squared_error(y_test,prediction))"
      ],
      "execution_count": 42,
      "outputs": [
        {
          "output_type": "stream",
          "name": "stdout",
          "text": [
            "MSE is 2.5855122272489655\n"
          ]
        }
      ]
    },
    {
      "cell_type": "code",
      "metadata": {
        "id": "jPYWMJEY74lG"
      },
      "source": [
        "pre=[y_test,prediction]\n",
        "findata=pd.DataFrame(pre,index=['non-predict','predict'])"
      ],
      "execution_count": 47,
      "outputs": []
    },
    {
      "cell_type": "code",
      "metadata": {
        "colab": {
          "base_uri": "https://localhost:8080/",
          "height": 178
        },
        "id": "NjcFf78P34Lo",
        "outputId": "0b2ae0d9-e1ac-4d51-b61d-1543118186d4"
      },
      "source": [
        "findata"
      ],
      "execution_count": 48,
      "outputs": [
        {
          "output_type": "execute_result",
          "data": {
            "text/html": [
              "<div>\n",
              "<style scoped>\n",
              "    .dataframe tbody tr th:only-of-type {\n",
              "        vertical-align: middle;\n",
              "    }\n",
              "\n",
              "    .dataframe tbody tr th {\n",
              "        vertical-align: top;\n",
              "    }\n",
              "\n",
              "    .dataframe thead th {\n",
              "        text-align: right;\n",
              "    }\n",
              "</style>\n",
              "<table border=\"1\" class=\"dataframe\">\n",
              "  <thead>\n",
              "    <tr style=\"text-align: right;\">\n",
              "      <th></th>\n",
              "      <th>143</th>\n",
              "      <th>81</th>\n",
              "      <th>26</th>\n",
              "      <th>150</th>\n",
              "      <th>124</th>\n",
              "      <th>24</th>\n",
              "      <th>126</th>\n",
              "      <th>142</th>\n",
              "      <th>129</th>\n",
              "      <th>171</th>\n",
              "      <th>72</th>\n",
              "      <th>97</th>\n",
              "      <th>21</th>\n",
              "      <th>67</th>\n",
              "      <th>106</th>\n",
              "      <th>184</th>\n",
              "      <th>111</th>\n",
              "      <th>63</th>\n",
              "      <th>93</th>\n",
              "      <th>183</th>\n",
              "      <th>86</th>\n",
              "      <th>158</th>\n",
              "      <th>133</th>\n",
              "      <th>50</th>\n",
              "      <th>99</th>\n",
              "      <th>199</th>\n",
              "      <th>189</th>\n",
              "      <th>101</th>\n",
              "      <th>100</th>\n",
              "      <th>103</th>\n",
              "      <th>139</th>\n",
              "      <th>57</th>\n",
              "      <th>36</th>\n",
              "      <th>114</th>\n",
              "      <th>54</th>\n",
              "      <th>25</th>\n",
              "      <th>1</th>\n",
              "      <th>149</th>\n",
              "      <th>193</th>\n",
              "      <th>121</th>\n",
              "      <th>...</th>\n",
              "      <th>5</th>\n",
              "      <th>8</th>\n",
              "      <th>180</th>\n",
              "      <th>94</th>\n",
              "      <th>42</th>\n",
              "      <th>96</th>\n",
              "      <th>117</th>\n",
              "      <th>77</th>\n",
              "      <th>141</th>\n",
              "      <th>38</th>\n",
              "      <th>159</th>\n",
              "      <th>68</th>\n",
              "      <th>192</th>\n",
              "      <th>73</th>\n",
              "      <th>160</th>\n",
              "      <th>56</th>\n",
              "      <th>14</th>\n",
              "      <th>32</th>\n",
              "      <th>179</th>\n",
              "      <th>84</th>\n",
              "      <th>41</th>\n",
              "      <th>66</th>\n",
              "      <th>88</th>\n",
              "      <th>82</th>\n",
              "      <th>109</th>\n",
              "      <th>136</th>\n",
              "      <th>70</th>\n",
              "      <th>35</th>\n",
              "      <th>154</th>\n",
              "      <th>110</th>\n",
              "      <th>89</th>\n",
              "      <th>188</th>\n",
              "      <th>187</th>\n",
              "      <th>167</th>\n",
              "      <th>166</th>\n",
              "      <th>47</th>\n",
              "      <th>83</th>\n",
              "      <th>112</th>\n",
              "      <th>30</th>\n",
              "      <th>74</th>\n",
              "    </tr>\n",
              "  </thead>\n",
              "  <tbody>\n",
              "    <tr>\n",
              "      <th>non-predict</th>\n",
              "      <td>10.4</td>\n",
              "      <td>12.300000</td>\n",
              "      <td>15.000000</td>\n",
              "      <td>16.1</td>\n",
              "      <td>19.7</td>\n",
              "      <td>9.700000</td>\n",
              "      <td>6.6</td>\n",
              "      <td>20.1</td>\n",
              "      <td>9.7</td>\n",
              "      <td>14.5</td>\n",
              "      <td>8.800000</td>\n",
              "      <td>15.500000</td>\n",
              "      <td>12.50000</td>\n",
              "      <td>13.400000</td>\n",
              "      <td>7.2</td>\n",
              "      <td>17.6</td>\n",
              "      <td>21.8</td>\n",
              "      <td>14.000000</td>\n",
              "      <td>22.200000</td>\n",
              "      <td>26.2</td>\n",
              "      <td>12.000000</td>\n",
              "      <td>7.3</td>\n",
              "      <td>19.6</td>\n",
              "      <td>11.400000</td>\n",
              "      <td>17.200000</td>\n",
              "      <td>13.4</td>\n",
              "      <td>6.7</td>\n",
              "      <td>23.8</td>\n",
              "      <td>11.7</td>\n",
              "      <td>14.7</td>\n",
              "      <td>20.7</td>\n",
              "      <td>13.200000</td>\n",
              "      <td>25.400000</td>\n",
              "      <td>14.6</td>\n",
              "      <td>20.200000</td>\n",
              "      <td>12.000000</td>\n",
              "      <td>10.40000</td>\n",
              "      <td>10.1</td>\n",
              "      <td>19.6</td>\n",
              "      <td>7.0</td>\n",
              "      <td>...</td>\n",
              "      <td>7.200000</td>\n",
              "      <td>4.800000</td>\n",
              "      <td>10.5</td>\n",
              "      <td>11.500000</td>\n",
              "      <td>20.700000</td>\n",
              "      <td>11.700000</td>\n",
              "      <td>9.4</td>\n",
              "      <td>14.200000</td>\n",
              "      <td>19.2</td>\n",
              "      <td>10.100000</td>\n",
              "      <td>12.9</td>\n",
              "      <td>18.900000</td>\n",
              "      <td>5.9</td>\n",
              "      <td>11.000000</td>\n",
              "      <td>14.4</td>\n",
              "      <td>5.500000</td>\n",
              "      <td>19.000000</td>\n",
              "      <td>9.600000</td>\n",
              "      <td>12.6</td>\n",
              "      <td>21.700000</td>\n",
              "      <td>17.10000</td>\n",
              "      <td>9.50000</td>\n",
              "      <td>12.900000</td>\n",
              "      <td>11.300000</td>\n",
              "      <td>19.8</td>\n",
              "      <td>9.5</td>\n",
              "      <td>18.300000</td>\n",
              "      <td>12.800000</td>\n",
              "      <td>15.6</td>\n",
              "      <td>13.4</td>\n",
              "      <td>16.700000</td>\n",
              "      <td>15.9</td>\n",
              "      <td>17.3</td>\n",
              "      <td>12.2</td>\n",
              "      <td>8.0</td>\n",
              "      <td>23.200000</td>\n",
              "      <td>13.600000</td>\n",
              "      <td>14.1</td>\n",
              "      <td>21.40000</td>\n",
              "      <td>17.000000</td>\n",
              "    </tr>\n",
              "    <tr>\n",
              "      <th>predict</th>\n",
              "      <td>NaN</td>\n",
              "      <td>9.063949</td>\n",
              "      <td>6.311146</td>\n",
              "      <td>NaN</td>\n",
              "      <td>NaN</td>\n",
              "      <td>17.073953</td>\n",
              "      <td>NaN</td>\n",
              "      <td>NaN</td>\n",
              "      <td>NaN</td>\n",
              "      <td>NaN</td>\n",
              "      <td>4.809675</td>\n",
              "      <td>13.691411</td>\n",
              "      <td>10.75053</td>\n",
              "      <td>13.775106</td>\n",
              "      <td>NaN</td>\n",
              "      <td>NaN</td>\n",
              "      <td>NaN</td>\n",
              "      <td>10.483385</td>\n",
              "      <td>13.268783</td>\n",
              "      <td>NaN</td>\n",
              "      <td>17.773229</td>\n",
              "      <td>NaN</td>\n",
              "      <td>NaN</td>\n",
              "      <td>15.901629</td>\n",
              "      <td>17.125398</td>\n",
              "      <td>NaN</td>\n",
              "      <td>NaN</td>\n",
              "      <td>NaN</td>\n",
              "      <td>NaN</td>\n",
              "      <td>NaN</td>\n",
              "      <td>NaN</td>\n",
              "      <td>21.902004</td>\n",
              "      <td>12.637308</td>\n",
              "      <td>NaN</td>\n",
              "      <td>17.893719</td>\n",
              "      <td>14.945274</td>\n",
              "      <td>14.62435</td>\n",
              "      <td>NaN</td>\n",
              "      <td>NaN</td>\n",
              "      <td>NaN</td>\n",
              "      <td>...</td>\n",
              "      <td>8.287887</td>\n",
              "      <td>8.213562</td>\n",
              "      <td>NaN</td>\n",
              "      <td>11.004779</td>\n",
              "      <td>9.963791</td>\n",
              "      <td>14.594417</td>\n",
              "      <td>NaN</td>\n",
              "      <td>7.831633</td>\n",
              "      <td>NaN</td>\n",
              "      <td>18.252446</td>\n",
              "      <td>NaN</td>\n",
              "      <td>18.660086</td>\n",
              "      <td>NaN</td>\n",
              "      <td>10.035439</td>\n",
              "      <td>NaN</td>\n",
              "      <td>12.816633</td>\n",
              "      <td>6.423093</td>\n",
              "      <td>22.994379</td>\n",
              "      <td>NaN</td>\n",
              "      <td>19.350718</td>\n",
              "      <td>5.95029</td>\n",
              "      <td>6.69201</td>\n",
              "      <td>15.327272</td>\n",
              "      <td>12.174558</td>\n",
              "      <td>NaN</td>\n",
              "      <td>NaN</td>\n",
              "      <td>12.517997</td>\n",
              "      <td>15.418521</td>\n",
              "      <td>NaN</td>\n",
              "      <td>NaN</td>\n",
              "      <td>14.894474</td>\n",
              "      <td>NaN</td>\n",
              "      <td>NaN</td>\n",
              "      <td>NaN</td>\n",
              "      <td>NaN</td>\n",
              "      <td>7.797564</td>\n",
              "      <td>10.379686</td>\n",
              "      <td>NaN</td>\n",
              "      <td>19.38903</td>\n",
              "      <td>14.230535</td>\n",
              "    </tr>\n",
              "  </tbody>\n",
              "</table>\n",
              "<p>2 rows × 100 columns</p>\n",
              "</div>"
            ],
            "text/plain": [
              "              143        81         26   ...   112       30         74 \n",
              "non-predict  10.4  12.300000  15.000000  ...  14.1  21.40000  17.000000\n",
              "predict       NaN   9.063949   6.311146  ...   NaN  19.38903  14.230535\n",
              "\n",
              "[2 rows x 100 columns]"
            ]
          },
          "metadata": {},
          "execution_count": 48
        }
      ]
    },
    {
      "cell_type": "code",
      "metadata": {
        "id": "8QoLM1JN8V87"
      },
      "source": [
        ""
      ],
      "execution_count": null,
      "outputs": []
    }
  ]
}